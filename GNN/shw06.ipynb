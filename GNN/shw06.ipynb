{
  "cells": [
    {
      "cell_type": "markdown",
      "id": "436319bd",
      "metadata": {
        "id": "436319bd"
      },
      "source": [
        "# Graph Neural Networks\n",
        "\n",
        "**Author**: Oleg Platonov\n",
        "\n",
        "Graph Neural Networks (GNNs) are currently the most popular approach to machine learning on graphs. Many GNN architectures can be unified by the Message-Passing Neural Networks (MPNNs) framework. Below we will describe (a variant of) this framework and implement and train several examples of MPNNs.\n",
        "\n",
        "First, let's introduce the notation we will be using in this notebook. Let $G = (V, E)$ be a graph with nodeset $V$ and edgeset $E$, $|V| = n$, $|E| = m$. Let $N(v)$ be the one-hop neighborhood of the node $v$ and $deg(v)$ be the degree of node $v$, $deg(v) = |N(v)|$. Let $A$ be the adjacency matrix of graph $G$ and $D$ be the diagonal degree matrix of graph $G$, i.e., $D = diag \\Big( deg(v_1), \\; deg(v_2), \\; ..., \\; deg(v_n) \\Big)$.\n",
        "\n",
        "In each layer $l$ an MPNN creates a representation $h_i^l$ of each node $v_i$ from it's previous-layer representation and previous-layer representations of its neighbors using the following formula:\n",
        "\n",
        "$$ h_i^{l+1} = \\mathrm{Update} \\Bigg( h_i^l, \\; \\mathrm{Aggregate} \\Big( \\Big\\{ (h_i^l, \\; h_j^l): \\; v_j \\in N(v_i) \\Big\\} \\Big) \\Bigg) $$\n",
        "\n",
        "Here, $\\mathrm{Aggregate}$ is a function that aggregates information from the set of neighbors (since it operates on a set, it should be invariant to the order of neighbors) and $\\mathrm{Update}$ is a function that combines the node's previous-layer representation with the aggregated information from its neighbors. For example, $\\mathrm{Aggregate}$ can be the elementwise mean operation over the set of neighbors and $\\mathrm{Update}$ can be an MLP that takes two concatenated vectors as input:\n",
        "\n",
        "$$ h_i^{l+1} = \\mathrm{MLP} \\Bigg( \\bigg[ h_i^l \\; \\mathbin\\Vert \\; \\mathrm{mean} \\Big( \\Big\\{ h_j^l: \\; v_j \\in N(v_i) \\Big\\} \\Big) \\bigg] \\Bigg) $$\n",
        "\n",
        "(this is actually the first GNN that we will implement in this seminar).\n",
        "\n",
        "The $\\mathrm{Aggregate}$ operation is often called graph convolution\n",
        "\n",
        "Note that variations of the above MPNN formula are possible. For example, edge representations can be added, but we won't do it in this seminar."
      ]
    },
    {
      "cell_type": "code",
      "execution_count": 1,
      "id": "b5f6034e",
      "metadata": {
        "id": "b5f6034e"
      },
      "outputs": [],
      "source": [
        "from tqdm.notebook import tqdm\n",
        "import numpy as np\n",
        "import torch\n",
        "from torch import nn\n",
        "from torch.nn import functional as F\n",
        "from torch.cuda.amp import autocast, GradScaler"
      ]
    },
    {
      "cell_type": "code",
      "execution_count": 2,
      "id": "44bc10fc",
      "metadata": {
        "id": "44bc10fc"
      },
      "outputs": [],
      "source": [
        "device = 'cuda:0'"
      ]
    },
    {
      "cell_type": "markdown",
      "id": "09cc361f",
      "metadata": {
        "id": "09cc361f"
      },
      "source": [
        "Now, let's get us a graph. PyTorch Geometric library provides a lot of popular graph datasets. We will use the Amazon-Computers dataset. It is a co-purchasing network where nodes represent products, edges indicate that two products are frequently bought together, node features are bag-of-words-encoded product reviews, and node labels are product categories. The graph is a simple undirected graph without self-loops."
      ]
    },
    {
      "cell_type": "code",
      "execution_count": 3,
      "id": "e73406c6",
      "metadata": {
        "colab": {
          "base_uri": "https://localhost:8080/"
        },
        "id": "e73406c6",
        "outputId": "20a6d963-faec-420d-f1d2-80b2665d36f3"
      },
      "outputs": [
        {
          "output_type": "stream",
          "name": "stdout",
          "text": [
            "Collecting torch_geometric\n",
            "  Downloading torch_geometric-2.4.0-py3-none-any.whl (1.0 MB)\n",
            "\u001b[2K     \u001b[90m━━━━━━━━━━━━━━━━━━━━━━━━━━━━━━━━━━━━━━━━\u001b[0m \u001b[32m1.0/1.0 MB\u001b[0m \u001b[31m5.6 MB/s\u001b[0m eta \u001b[36m0:00:00\u001b[0m\n",
            "\u001b[?25hRequirement already satisfied: tqdm in /usr/local/lib/python3.10/dist-packages (from torch_geometric) (4.66.1)\n",
            "Requirement already satisfied: numpy in /usr/local/lib/python3.10/dist-packages (from torch_geometric) (1.23.5)\n",
            "Requirement already satisfied: scipy in /usr/local/lib/python3.10/dist-packages (from torch_geometric) (1.11.4)\n",
            "Requirement already satisfied: jinja2 in /usr/local/lib/python3.10/dist-packages (from torch_geometric) (3.1.2)\n",
            "Requirement already satisfied: requests in /usr/local/lib/python3.10/dist-packages (from torch_geometric) (2.31.0)\n",
            "Requirement already satisfied: pyparsing in /usr/local/lib/python3.10/dist-packages (from torch_geometric) (3.1.1)\n",
            "Requirement already satisfied: scikit-learn in /usr/local/lib/python3.10/dist-packages (from torch_geometric) (1.2.2)\n",
            "Requirement already satisfied: psutil>=5.8.0 in /usr/local/lib/python3.10/dist-packages (from torch_geometric) (5.9.5)\n",
            "Requirement already satisfied: MarkupSafe>=2.0 in /usr/local/lib/python3.10/dist-packages (from jinja2->torch_geometric) (2.1.3)\n",
            "Requirement already satisfied: charset-normalizer<4,>=2 in /usr/local/lib/python3.10/dist-packages (from requests->torch_geometric) (3.3.2)\n",
            "Requirement already satisfied: idna<4,>=2.5 in /usr/local/lib/python3.10/dist-packages (from requests->torch_geometric) (3.6)\n",
            "Requirement already satisfied: urllib3<3,>=1.21.1 in /usr/local/lib/python3.10/dist-packages (from requests->torch_geometric) (2.0.7)\n",
            "Requirement already satisfied: certifi>=2017.4.17 in /usr/local/lib/python3.10/dist-packages (from requests->torch_geometric) (2023.11.17)\n",
            "Requirement already satisfied: joblib>=1.1.1 in /usr/local/lib/python3.10/dist-packages (from scikit-learn->torch_geometric) (1.3.2)\n",
            "Requirement already satisfied: threadpoolctl>=2.0.0 in /usr/local/lib/python3.10/dist-packages (from scikit-learn->torch_geometric) (3.2.0)\n",
            "Installing collected packages: torch_geometric\n",
            "Successfully installed torch_geometric-2.4.0\n"
          ]
        }
      ],
      "source": [
        "!pip install torch_geometric"
      ]
    },
    {
      "cell_type": "code",
      "execution_count": 4,
      "id": "ab958983",
      "metadata": {
        "id": "ab958983"
      },
      "outputs": [],
      "source": [
        "from torch_geometric import datasets"
      ]
    },
    {
      "cell_type": "code",
      "execution_count": 5,
      "id": "bfd0e436",
      "metadata": {
        "colab": {
          "base_uri": "https://localhost:8080/"
        },
        "id": "bfd0e436",
        "outputId": "8fe530c0-2a4a-465f-b574-03391be14e5e"
      },
      "outputs": [
        {
          "output_type": "stream",
          "name": "stderr",
          "text": [
            "Downloading https://github.com/shchur/gnn-benchmark/raw/master/data/npz/amazon_electronics_computers.npz\n",
            "Processing...\n"
          ]
        },
        {
          "output_type": "stream",
          "name": "stdout",
          "text": [
            "Number of nodes: 13752\n",
            "Number of edges: 491722\n",
            "Average node degree: 71.51\n"
          ]
        },
        {
          "output_type": "stream",
          "name": "stderr",
          "text": [
            "Done!\n"
          ]
        }
      ],
      "source": [
        "data = datasets.Amazon(name='computers', root='data')[0]\n",
        "features = data.x\n",
        "labels = data.y\n",
        "edges = data.edge_index.T\n",
        "\n",
        "print(f'Number of nodes: {len(labels)}')\n",
        "print(f'Number of edges: {len(edges)}')\n",
        "print(f'Average node degree: {len(edges) * 2 / len(labels):.2f}')"
      ]
    },
    {
      "cell_type": "code",
      "execution_count": 6,
      "id": "c05695fb",
      "metadata": {
        "id": "c05695fb"
      },
      "outputs": [],
      "source": [
        "from sklearn.model_selection import train_test_split"
      ]
    },
    {
      "cell_type": "code",
      "execution_count": 7,
      "id": "d40cf2fc",
      "metadata": {
        "id": "d40cf2fc"
      },
      "outputs": [],
      "source": [
        "full_idx = np.arange(len(labels))\n",
        "train_idx, val_and_test_idx = train_test_split(full_idx, test_size=0.5, random_state=0,\n",
        "                                               stratify=labels)\n",
        "\n",
        "val_idx, test_idx = train_test_split(val_and_test_idx, test_size=0.5, random_state=0,\n",
        "                                     stratify=labels[val_and_test_idx])\n",
        "\n",
        "train_idx = torch.from_numpy(train_idx)\n",
        "val_idx = torch.from_numpy(val_idx)\n",
        "test_idx = torch.from_numpy(test_idx)"
      ]
    },
    {
      "cell_type": "markdown",
      "id": "44d27aa1",
      "metadata": {
        "id": "44d27aa1"
      },
      "source": [
        "Let's prepare a training loop."
      ]
    },
    {
      "cell_type": "code",
      "execution_count": 8,
      "id": "f2f2bb9b",
      "metadata": {
        "id": "f2f2bb9b"
      },
      "outputs": [],
      "source": [
        "def train_step(model, optimizer, scaler, amp, graph, features, labels, train_idx):\n",
        "    model.train()\n",
        "\n",
        "    with autocast(enabled=amp):\n",
        "        logits = model(graph=graph, x=features)\n",
        "        loss = F.cross_entropy(input=logits[train_idx], target=labels[train_idx])\n",
        "\n",
        "    scaler.scale(loss).backward()\n",
        "    scaler.step(optimizer)\n",
        "    scaler.update()\n",
        "    optimizer.zero_grad()\n",
        "\n",
        "\n",
        "@torch.no_grad()\n",
        "def evaluate(model, amp, graph, features, labels, train_idx, test_idx, val_idx):\n",
        "    model.eval()\n",
        "\n",
        "    with autocast(enabled=amp):\n",
        "        logits = model(graph=graph, x=features)\n",
        "\n",
        "    preds = logits.argmax(axis=1)\n",
        "\n",
        "    train_accuracy = (preds[train_idx] == labels[train_idx]).float().mean().item()\n",
        "    val_accuracy = (preds[val_idx] == labels[val_idx]).float().mean().item()\n",
        "    test_accuracy = (preds[test_idx] == labels[test_idx]).float().mean().item()\n",
        "\n",
        "    metrics = {\n",
        "        'train accuracy': train_accuracy,\n",
        "        'val accuracy': val_accuracy,\n",
        "        'test accuracy': test_accuracy\n",
        "    }\n",
        "\n",
        "    return metrics\n",
        "\n",
        "\n",
        "def run_experiment(graph, features, labels, train_idx, val_idx, test_idx, graph_conv_module, num_layers=2,\n",
        "                   hidden_dim=256, num_heads=4, dropout=0.2, lr=3e-5, num_steps=500, device='cuda:0', amp=False):\n",
        "    model = Model(graph_conv_module=graph_conv_module,\n",
        "                  num_layers=num_layers,\n",
        "                  input_dim=features.shape[1],\n",
        "                  hidden_dim=hidden_dim,\n",
        "                  output_dim=len(labels.unique()),\n",
        "                  num_heads=num_heads,\n",
        "                  dropout=dropout)\n",
        "    model.to(device)\n",
        "    optimizer = torch.optim.Adam(model.parameters(), lr=lr)\n",
        "    scaler = GradScaler(enabled=amp)\n",
        "\n",
        "    graph = graph.to(device)\n",
        "    features = features.to(device)\n",
        "    labels = labels.to(device)\n",
        "    train_idx = train_idx.to(device)\n",
        "    val_idx = val_idx.to(device)\n",
        "    test_idx = test_idx.to(device)\n",
        "\n",
        "    best_val_metric = 0\n",
        "    corresponding_test_metric = 0\n",
        "    best_step = None\n",
        "    with tqdm(total=num_steps) as progress_bar:\n",
        "        for step in range(1, num_steps + 1):\n",
        "            train_step(model=model, optimizer=optimizer, scaler=scaler, amp=amp, graph=graph, features=features,\n",
        "                       labels=labels, train_idx=train_idx)\n",
        "            metrics = evaluate(model=model, amp=amp, graph=graph, features=features, labels=labels,\n",
        "                               train_idx=train_idx, val_idx=val_idx, test_idx=test_idx)\n",
        "\n",
        "            progress_bar.update()\n",
        "            progress_bar.set_postfix({metric: f'{value:.2f}' for metric, value in metrics.items()})\n",
        "\n",
        "            if metrics['val accuracy'] > best_val_metric:\n",
        "                best_val_metric = metrics['val accuracy']\n",
        "                corresponding_test_metric = metrics['test accuracy']\n",
        "                best_step = step\n",
        "\n",
        "    print(f'Best val accuracy: {best_val_metric:.4f}')\n",
        "    print(f'Corresponding test accuracy: {corresponding_test_metric:.4f}')\n",
        "    print(f'(step {best_step})')\n"
      ]
    },
    {
      "cell_type": "markdown",
      "id": "8add8f70",
      "metadata": {
        "id": "8add8f70"
      },
      "source": [
        "This should look quite similar to your standard training loop, but with one notable difference - there are no mini-batches, we are always training on the whole graph. Since the data samples (graph nodes) are not independent, we cannot trivially sample a mini-batch.\n",
        "\n",
        "Now, let's implement a model. Don't forget about skip connections and layer normalization - they can signififcantly boost the performance of a deep learning model."
      ]
    },
    {
      "cell_type": "code",
      "execution_count": 9,
      "id": "d10515d5",
      "metadata": {
        "id": "d10515d5"
      },
      "outputs": [],
      "source": [
        "class FeedForwardModule(nn.Module):\n",
        "    def __init__(self, dim, num_inputs, dropout):\n",
        "        super().__init__()\n",
        "        self.linear_1 = nn.Linear(in_features=num_inputs * dim, out_features=dim)\n",
        "        self.dropout_1 = nn.Dropout(p=dropout)\n",
        "        self.act = nn.GELU()\n",
        "        self.linear_2 = nn.Linear(in_features=dim, out_features=dim)\n",
        "        self.dropout_2 = nn.Dropout(p=dropout)\n",
        "\n",
        "    def forward(self, x):\n",
        "        x = self.linear_1(x)\n",
        "        x = self.dropout_1(x)\n",
        "        x = self.act(x)\n",
        "        x = self.linear_2(x)\n",
        "        x = self.dropout_2(x)\n",
        "\n",
        "        return x\n",
        "\n",
        "\n",
        "class ResidualModule(nn.Module):\n",
        "    def __init__(self, graph_conv_module, dim, num_heads, dropout):\n",
        "        super().__init__()\n",
        "        self.normalization = nn.LayerNorm(normalized_shape=dim)\n",
        "        self.graph_conv = graph_conv_module(dim=dim, num_heads=num_heads)\n",
        "        self.feed_forward = FeedForwardModule(dim=dim, num_inputs=2, dropout=dropout)\n",
        "\n",
        "    def forward(self, graph, x):\n",
        "        x_res = self.normalization(x)\n",
        "\n",
        "        x_aggregated = self.graph_conv(graph, x_res)\n",
        "        x_res = torch.cat([x_res, x_aggregated], axis=1)\n",
        "\n",
        "        x_res = self.feed_forward(x_res)\n",
        "\n",
        "        x = x + x_res\n",
        "\n",
        "        return x\n",
        "\n",
        "\n",
        "class Model(nn.Module):\n",
        "    def __init__(self, graph_conv_module, num_layers, input_dim, hidden_dim, output_dim, num_heads, dropout):\n",
        "        super().__init__()\n",
        "        self.input_linear = nn.Linear(in_features=input_dim, out_features=hidden_dim)\n",
        "        self.input_dropout = nn.Dropout(p=dropout)\n",
        "        self.input_act = nn.GELU()\n",
        "\n",
        "        self.residual_modules = nn.ModuleList(\n",
        "            ResidualModule(graph_conv_module=graph_conv_module, dim=hidden_dim, num_heads=num_heads,\n",
        "                           dropout=dropout)\n",
        "            for _ in range(num_layers)\n",
        "        )\n",
        "\n",
        "        self.output_normalization = nn.LayerNorm(hidden_dim)\n",
        "        self.output_linear = nn.Linear(in_features=hidden_dim, out_features=output_dim)\n",
        "\n",
        "    def forward(self, graph, x):\n",
        "        x = self.input_linear(x)\n",
        "        x = self.input_dropout(x)\n",
        "        x = self.input_act(x)\n",
        "\n",
        "        for residual_module in self.residual_modules:\n",
        "            x = residual_module(graph, x)\n",
        "\n",
        "        x = self.output_normalization(x)\n",
        "        logits = self.output_linear(x)\n",
        "\n",
        "        return logits\n"
      ]
    },
    {
      "cell_type": "markdown",
      "id": "4030a0f4",
      "metadata": {
        "id": "4030a0f4"
      },
      "source": [
        "Now everything is ready - except for the graph convolution module. We will implement several variants of this module, which will constitute the only difference between our GNNs. But first - as a simple baseline - let's implement a graph convolution module that does nothing. It will allow us to see how a graph-agnostic model performs, so we can then compare our GNNs to this baseline."
      ]
    },
    {
      "cell_type": "code",
      "execution_count": 10,
      "id": "2554025c",
      "metadata": {
        "id": "2554025c"
      },
      "outputs": [],
      "source": [
        "class DummyGraphConv(nn.Module):\n",
        "    def __init__(self, **kwargs):\n",
        "        super().__init__()\n",
        "\n",
        "    def forward(self, graph, x):\n",
        "        return torch.zeros_like(x)\n"
      ]
    },
    {
      "cell_type": "code",
      "execution_count": 11,
      "id": "bf9f0be4",
      "metadata": {
        "colab": {
          "base_uri": "https://localhost:8080/",
          "height": 101,
          "referenced_widgets": [
            "b8617f419efd42d78fa8b91a37f07e4e",
            "ff45e0a2c4f64c36b3251f6d114f9946",
            "b6fe78d7a12146878104ded35fadb6c8",
            "44285c681214426fa5411813a55455ce",
            "58ddc754af26449bb9cfeb7d2898030e",
            "7f6a4d2499d54dbdab27bde375710fce",
            "e3283563671b4e39aa9c144a522396e7",
            "61c1e0ee049e4fecb29dc037994574d3",
            "643148b9ec3e43e7bd540f76da282603",
            "e1d0aebcf34243878625ae3bfd955c59",
            "0ee4979b52b64b88b99ff1523d9b306e"
          ]
        },
        "id": "bf9f0be4",
        "outputId": "53cc77d7-2f2a-465d-f7b7-443afeeadc7b"
      },
      "outputs": [
        {
          "output_type": "display_data",
          "data": {
            "text/plain": [
              "  0%|          | 0/500 [00:00<?, ?it/s]"
            ],
            "application/vnd.jupyter.widget-view+json": {
              "version_major": 2,
              "version_minor": 0,
              "model_id": "b8617f419efd42d78fa8b91a37f07e4e"
            }
          },
          "metadata": {}
        },
        {
          "output_type": "stream",
          "name": "stdout",
          "text": [
            "Best val accuracy: 0.8406\n",
            "Corresponding test accuracy: 0.8293\n",
            "(step 493)\n"
          ]
        }
      ],
      "source": [
        "graph = torch.empty(0)   # We don't care about graph representation for this experiment.\n",
        "\n",
        "run_experiment(graph=graph, features=features, labels=labels,\n",
        "               train_idx=train_idx, val_idx=val_idx, test_idx=test_idx,\n",
        "               graph_conv_module=DummyGraphConv,\n",
        "               device=device, amp=True)"
      ]
    },
    {
      "cell_type": "markdown",
      "id": "1b11368a",
      "metadata": {
        "id": "1b11368a"
      },
      "source": [
        "Now let's implement some real graph convolutions. Simple graph convolutions can be represented as operations with (sparse) matrices. Thus, they can be implemented in pure PyTorch. We will need the graph adjacency matrix $A$, the graph degree matrix $D$, and the matrix of node representations at layer $l$ $H^l$. Further, let $\\tilde{h_i}^{l}$ be the output of $\\mathrm{Aggregate}$ function at layer $l$ for node $v_i$ and let $\\widetilde{H}^l$ be the matrix of stacked vectors $\\tilde{h_i}^{l}$ for all nodes.\n",
        "\n",
        "For the next couple experiments, assume that the graph argument of the graph convolution forward method is a sparse adjacency matrix of the graph."
      ]
    },
    {
      "cell_type": "code",
      "execution_count": 14,
      "id": "bb74d6e8",
      "metadata": {
        "colab": {
          "base_uri": "https://localhost:8080/"
        },
        "id": "bb74d6e8",
        "outputId": "d9ee16da-4896-4e1f-fff2-78b5d80bbdae"
      },
      "outputs": [
        {
          "output_type": "execute_result",
          "data": {
            "text/plain": [
              "tensor(indices=tensor([[    0,     0,     0,  ..., 13751, 13751, 13751],\n",
              "                       [  507,  6551,  8210,  ..., 12751, 13019, 13121]]),\n",
              "       values=tensor([1., 1., 1.,  ..., 1., 1., 1.]),\n",
              "       size=(13752, 13752), nnz=491722, layout=torch.sparse_coo)"
            ]
          },
          "metadata": {},
          "execution_count": 14
        }
      ],
      "source": [
        "graph = torch.sparse_coo_tensor(indices=edges.T, values=torch.ones(len(edges)), size=(len(labels), len(labels)))\n",
        "graph"
      ]
    },
    {
      "cell_type": "markdown",
      "id": "b90c600c",
      "metadata": {
        "id": "b90c600c"
      },
      "source": [
        "Let's implement a graph convolution that simply takes the mean of neighbors' representations. We can write:\n",
        "\n",
        "$$ \\tilde{h}_i^{l+1} = \\frac{1}{|N(v_i)|} \\sum_{v_j \\in N(v_i)} h_j^l $$\n",
        "\n",
        "This operation can be written in matrix form:\n",
        "\n",
        "$$ \\widetilde{H}^{l+1} = D^{-1} A H^l $$\n",
        "\n",
        "Let's implement it!"
      ]
    },
    {
      "cell_type": "code",
      "execution_count": 19,
      "id": "789c6382",
      "metadata": {
        "id": "789c6382"
      },
      "outputs": [],
      "source": [
        "class MeanGraphConv(nn.Module):\n",
        "    def __init__(self, **kwargs):\n",
        "        super().__init__()\n",
        "\n",
        "    def forward(self, graph, x):\n",
        "        ### YOUR CODE HERE ###\n",
        "\n",
        "        D = graph.sum(axis=1).to_dense()[:, None]\n",
        "        D[D == 0] = 1\n",
        "        x_aggregated = graph @ x / D\n",
        "\n",
        "        ######################\n",
        "\n",
        "        return x_aggregated\n"
      ]
    },
    {
      "cell_type": "markdown",
      "id": "66d71b93",
      "metadata": {
        "id": "66d71b93"
      },
      "source": [
        "(The computations can be sped up by precomputing $D^{-1} A$, but we won't do it.)"
      ]
    },
    {
      "cell_type": "code",
      "execution_count": 20,
      "id": "cf23297c",
      "metadata": {
        "colab": {
          "base_uri": "https://localhost:8080/",
          "height": 101,
          "referenced_widgets": [
            "0b9871a7d3e847d485ca2ae619a0dd63",
            "fa6c489730974320a0c413bc2f2fa71b",
            "2414dc54260a445eabcd3e17f04e3d0e",
            "d96c97e72d2c4fe280220e8e22260d93",
            "9184855a04c3472f8a78b4a53039d598",
            "11ccd48924434c0c922fbe09a4f1dd1a",
            "646291b14a614405ab760c6fcdc12a2b",
            "78205e7f0260452fa223f05cd2a935dc",
            "abc217b539cf4569b9126901e7e164a1",
            "ca57ea52e3904d5baf767e37c644782e",
            "80fc6c956fee47bc8a9509363e7482a4"
          ]
        },
        "id": "cf23297c",
        "outputId": "13e56cf1-1b19-433b-dd11-55c501fbcbbc"
      },
      "outputs": [
        {
          "output_type": "display_data",
          "data": {
            "text/plain": [
              "  0%|          | 0/500 [00:00<?, ?it/s]"
            ],
            "application/vnd.jupyter.widget-view+json": {
              "version_major": 2,
              "version_minor": 0,
              "model_id": "0b9871a7d3e847d485ca2ae619a0dd63"
            }
          },
          "metadata": {}
        },
        {
          "output_type": "stream",
          "name": "stdout",
          "text": [
            "Best val accuracy: 0.9084\n",
            "Corresponding test accuracy: 0.9002\n",
            "(step 429)\n"
          ]
        }
      ],
      "source": [
        "run_experiment(graph=graph, features=features, labels=labels,\n",
        "               train_idx=train_idx, val_idx=val_idx, test_idx=test_idx,\n",
        "               graph_conv_module=MeanGraphConv,\n",
        "               device=device)"
      ]
    },
    {
      "cell_type": "markdown",
      "id": "cefdb56c",
      "metadata": {
        "id": "cefdb56c"
      },
      "source": [
        "As we can see, the accuracy is a lot better than in the previous experiment - our GNN works better than a graph-agnostoc model on this dataset."
      ]
    },
    {
      "cell_type": "markdown",
      "id": "698594f2",
      "metadata": {
        "id": "698594f2"
      },
      "source": [
        "Now, let's try another simple GNN variant - this time we will implement a graph convolution proposed in [the GCN paper](https://arxiv.org/abs/1609.02907). The formula is:\n",
        "\n",
        "$$ \\tilde{h}_i^{l+1} = \\sum_{v_j \\in N(v_i)} \\frac{1}{\\sqrt{deg(v_i) deg(v_j)}} h_j^l $$\n",
        "\n",
        "It's very similar to the mean convolution, except we normalize each neighbor's representation not by the degree of the ego node, but by the geometric mean of the degree of the ego node and the neighbor. This operation can be written in matrix form:\n",
        "\n",
        "$$ \\widetilde{H}^{l+1} = D^{-\\frac{1}{2}} A D^{-\\frac{1}{2}} H^l $$\n",
        "\n",
        "Let's implement it!"
      ]
    },
    {
      "cell_type": "code",
      "execution_count": 27,
      "id": "25de997a",
      "metadata": {
        "id": "25de997a"
      },
      "outputs": [],
      "source": [
        "class GCNGraphConv(nn.Module):\n",
        "    def __init__(self, **kwargs):\n",
        "        super().__init__()\n",
        "\n",
        "    def forward(self, graph, x):\n",
        "        ### YOUR CODE HERE ###\n",
        "        D = 1 / graph.sum(axis=1).to_dense().sqrt()[:, None]\n",
        "        D[D == 0] = 1\n",
        "        x_aggregated = (graph * D * D.T) @ x\n",
        "\n",
        "        ######################\n",
        "\n",
        "        return x_aggregated\n"
      ]
    },
    {
      "cell_type": "markdown",
      "id": "01341bf6",
      "metadata": {
        "id": "01341bf6"
      },
      "source": [
        "(The computations can be sped up by precomputing $D^{-\\frac{1}{2}} A D^{-\\frac{1}{2}}$, but we won't do it.)"
      ]
    },
    {
      "cell_type": "code",
      "execution_count": 28,
      "id": "40723c8b",
      "metadata": {
        "colab": {
          "base_uri": "https://localhost:8080/",
          "height": 101,
          "referenced_widgets": [
            "81be3e7252b9446d8cbfee883d611daf",
            "a2145b5484704214900af2d0a8c3a0ff",
            "e06cad5d4efb4222a76fe6cc57359d43",
            "c9bee6d692264ee699efbfef3f4495cd",
            "b21bd18b56d54c499a5a938bda6f38a8",
            "69ca0548fb5046a387a3077c15965db6",
            "66d83565465641eda1ea3fd7fcc32e7d",
            "d9e6617c7f2c4b4793137582fbbbc4d5",
            "b9435272e59e41ec980b1d96fa0b7a17",
            "a48d966732db46e19674fdb9116f561e",
            "793adac998de4f069b169c32df2becb5"
          ]
        },
        "id": "40723c8b",
        "outputId": "2acc64e9-5e04-48f4-f0d8-607eae200d06"
      },
      "outputs": [
        {
          "output_type": "display_data",
          "data": {
            "text/plain": [
              "  0%|          | 0/500 [00:00<?, ?it/s]"
            ],
            "application/vnd.jupyter.widget-view+json": {
              "version_major": 2,
              "version_minor": 0,
              "model_id": "81be3e7252b9446d8cbfee883d611daf"
            }
          },
          "metadata": {}
        },
        {
          "output_type": "stream",
          "name": "stdout",
          "text": [
            "Best val accuracy: 0.9031\n",
            "Corresponding test accuracy: 0.8947\n",
            "(step 488)\n"
          ]
        }
      ],
      "source": [
        "run_experiment(graph=graph, features=features, labels=labels,\n",
        "               train_idx=train_idx, val_idx=val_idx, test_idx=test_idx,\n",
        "               graph_conv_module=GCNGraphConv,\n",
        "               device=device)"
      ]
    },
    {
      "cell_type": "markdown",
      "id": "24658a84",
      "metadata": {
        "id": "24658a84"
      },
      "source": [
        "The results are similar to those in the previous experiment."
      ]
    },
    {
      "cell_type": "markdown",
      "id": "d65be773",
      "metadata": {
        "id": "d65be773"
      },
      "source": [
        "Simple graph convolutions can be expressed as matrix operations, and thus, can be implemented in pure PyTorch. However, efficient implementation of more complex graph convolutions requires using specialized libraries. There are two most popular GNN libraries for PyTorch - [PyTorch Geometric (PyG)](https://github.com/pyg-team/pytorch_geometric) and [Deep Graph Library (DGL)](https://www.dgl.ai/). In this seminar, we will be using DGL, because ~it is objectively better~ the instructor likes it more."
      ]
    },
    {
      "cell_type": "code",
      "execution_count": 29,
      "id": "863c2414",
      "metadata": {
        "colab": {
          "base_uri": "https://localhost:8080/"
        },
        "id": "863c2414",
        "outputId": "ed2b9889-025f-492c-b1ae-d52a110941e6"
      },
      "outputs": [
        {
          "output_type": "stream",
          "name": "stdout",
          "text": [
            "Looking in links: https://data.dgl.ai/wheels/cu118/repo.html\n",
            "Collecting dgl\n",
            "  Downloading https://data.dgl.ai/wheels/cu118/dgl-1.1.2%2Bcu118-cp310-cp310-manylinux1_x86_64.whl (91.3 MB)\n",
            "\u001b[2K     \u001b[90m━━━━━━━━━━━━━━━━━━━━━━━━━━━━━━━━━━━━━━━━\u001b[0m \u001b[32m91.3/91.3 MB\u001b[0m \u001b[31m2.2 MB/s\u001b[0m eta \u001b[36m0:00:00\u001b[0m\n",
            "\u001b[?25hRequirement already satisfied: numpy>=1.14.0 in /usr/local/lib/python3.10/dist-packages (from dgl) (1.23.5)\n",
            "Requirement already satisfied: scipy>=1.1.0 in /usr/local/lib/python3.10/dist-packages (from dgl) (1.11.4)\n",
            "Requirement already satisfied: networkx>=2.1 in /usr/local/lib/python3.10/dist-packages (from dgl) (3.2.1)\n",
            "Requirement already satisfied: requests>=2.19.0 in /usr/local/lib/python3.10/dist-packages (from dgl) (2.31.0)\n",
            "Requirement already satisfied: tqdm in /usr/local/lib/python3.10/dist-packages (from dgl) (4.66.1)\n",
            "Requirement already satisfied: psutil>=5.8.0 in /usr/local/lib/python3.10/dist-packages (from dgl) (5.9.5)\n",
            "Requirement already satisfied: charset-normalizer<4,>=2 in /usr/local/lib/python3.10/dist-packages (from requests>=2.19.0->dgl) (3.3.2)\n",
            "Requirement already satisfied: idna<4,>=2.5 in /usr/local/lib/python3.10/dist-packages (from requests>=2.19.0->dgl) (3.6)\n",
            "Requirement already satisfied: urllib3<3,>=1.21.1 in /usr/local/lib/python3.10/dist-packages (from requests>=2.19.0->dgl) (2.0.7)\n",
            "Requirement already satisfied: certifi>=2017.4.17 in /usr/local/lib/python3.10/dist-packages (from requests>=2.19.0->dgl) (2023.11.17)\n",
            "Installing collected packages: dgl\n",
            "Successfully installed dgl-1.1.2+cu118\n"
          ]
        }
      ],
      "source": [
        "pip install  dgl -f https://data.dgl.ai/wheels/cu118/repo.html"
      ]
    },
    {
      "cell_type": "code",
      "execution_count": 30,
      "id": "c9f583f1",
      "metadata": {
        "colab": {
          "base_uri": "https://localhost:8080/"
        },
        "id": "c9f583f1",
        "outputId": "922b79b5-5fbd-49d0-bee9-2774e8c7d13f"
      },
      "outputs": [
        {
          "output_type": "stream",
          "name": "stderr",
          "text": [
            "DGL backend not selected or invalid.  Assuming PyTorch for now.\n"
          ]
        },
        {
          "output_type": "stream",
          "name": "stdout",
          "text": [
            "Setting the default backend to \"pytorch\". You can change it in the ~/.dgl/config.json file or export the DGLBACKEND environment variable.  Valid options are: pytorch, mxnet, tensorflow (all lowercase)\n"
          ]
        }
      ],
      "source": [
        "import dgl\n",
        "from dgl import ops"
      ]
    },
    {
      "cell_type": "markdown",
      "id": "27cd4783",
      "metadata": {
        "id": "27cd4783"
      },
      "source": [
        "There are many features for deep learning on graphs in DGL, but we will only be using two of them - the Graph class, which is obviously used for representing a graph, and the [ops module](https://docs.dgl.ai/api/python/dgl.ops.html), which contains operators for message passing on graphs.\n",
        "\n",
        "First, let's create a graph representation which we will be using in the next few experiments."
      ]
    },
    {
      "cell_type": "code",
      "execution_count": 31,
      "id": "b139af27",
      "metadata": {
        "colab": {
          "base_uri": "https://localhost:8080/"
        },
        "id": "b139af27",
        "outputId": "defc4c84-4722-4c81-ddc6-b20ec91c0b6f"
      },
      "outputs": [
        {
          "output_type": "execute_result",
          "data": {
            "text/plain": [
              "Graph(num_nodes=13752, num_edges=491722,\n",
              "      ndata_schemes={}\n",
              "      edata_schemes={})"
            ]
          },
          "metadata": {},
          "execution_count": 31
        }
      ],
      "source": [
        "graph = dgl.graph((edges[:, 0], edges[:, 1]), num_nodes=len(labels))\n",
        "graph"
      ]
    },
    {
      "cell_type": "markdown",
      "id": "83d7a06e",
      "metadata": {
        "id": "83d7a06e"
      },
      "source": [
        "Now let's reimplement the mean graph convolution, this time using DGL. For this we will need a certain operation from the ops module - can you guess which one by their names?"
      ]
    },
    {
      "cell_type": "code",
      "execution_count": 32,
      "id": "50885ea3",
      "metadata": {
        "id": "50885ea3"
      },
      "outputs": [],
      "source": [
        "class DGLMeanGraphConv(nn.Module):\n",
        "    def __init__(self, **kwargs):\n",
        "        super().__init__()\n",
        "\n",
        "    def forward(self, graph, x):\n",
        "        ### YOUR CODE HERE ###\n",
        "\n",
        "        x_aggregated = ops.copy_u_mean(graph, x)\n",
        "\n",
        "        ######################\n",
        "\n",
        "        return x_aggregated\n"
      ]
    },
    {
      "cell_type": "code",
      "execution_count": 33,
      "id": "484ad64e",
      "metadata": {
        "colab": {
          "base_uri": "https://localhost:8080/",
          "height": 101,
          "referenced_widgets": [
            "4de385bfc3a34f66b143a4599c76ac09",
            "cb1edab77c25460da5d4063dfff72b7e",
            "521a129e57ca4a3f9884d1bdd495a070",
            "5900f5470d8b4f449ed8f2f85c5410b2",
            "b05086821dda4e7db2bdc778f39ab31d",
            "93299987d4094a70a7dd316f617fd4c2",
            "0b7f17e990244e6cb72d2c0a5e3bf60f",
            "7fcf98962422406eaa7e67ecb6499458",
            "26cac0b36e2248eea42cc7bad47e247f",
            "8b6b39b2937847e8863a51f9f4f2ead6",
            "97cd19a587964fe089bdb4513454bf19"
          ]
        },
        "id": "484ad64e",
        "outputId": "af457a44-6533-4388-b520-19d8cbc81c6a"
      },
      "outputs": [
        {
          "output_type": "display_data",
          "data": {
            "text/plain": [
              "  0%|          | 0/500 [00:00<?, ?it/s]"
            ],
            "application/vnd.jupyter.widget-view+json": {
              "version_major": 2,
              "version_minor": 0,
              "model_id": "4de385bfc3a34f66b143a4599c76ac09"
            }
          },
          "metadata": {}
        },
        {
          "output_type": "stream",
          "name": "stdout",
          "text": [
            "Best val accuracy: 0.9084\n",
            "Corresponding test accuracy: 0.8988\n",
            "(step 462)\n"
          ]
        }
      ],
      "source": [
        "run_experiment(graph=graph, features=features, labels=labels,\n",
        "               train_idx=train_idx, val_idx=val_idx, test_idx=test_idx,\n",
        "               graph_conv_module=DGLMeanGraphConv,\n",
        "               device=device, amp=True)"
      ]
    },
    {
      "cell_type": "markdown",
      "id": "06023062",
      "metadata": {
        "id": "06023062"
      },
      "source": [
        "The results are roughly the same as for the pure PyTorch implementation, but the training is faster (graph message passing operations with DGL a generally faster than PyTorch sparse matrix multiplications, and, further, DGL supports using AMP with most of its operations, while PyTorch does not (yet) allow using AMP with sparse matrix operations)."
      ]
    },
    {
      "cell_type": "markdown",
      "id": "f578c692",
      "metadata": {
        "id": "f578c692"
      },
      "source": [
        "By simply swapping the ops.copy_u_mean function for the ops.copy_u_max function, we can get another graph convolution that computes the elementwise maximum of neighbors' representations. This one cannot be efficiently implemented in pure PyTorch. Let's see how it performs."
      ]
    },
    {
      "cell_type": "code",
      "execution_count": 36,
      "id": "0f4af522",
      "metadata": {
        "id": "0f4af522"
      },
      "outputs": [],
      "source": [
        "class DGLMaxGraphConv(nn.Module):\n",
        "    def __init__(self, **kwargs):\n",
        "        super().__init__()\n",
        "\n",
        "    def forward(self, graph, x):\n",
        "        ### YOUR CODE HERE ###\n",
        "\n",
        "        x_aggregated = ops.copy_u_max(graph, x)\n",
        "        x_aggregated[x_aggregated.isinf()] = 0\n",
        "\n",
        "        ######################\n",
        "\n",
        "        return x_aggregated\n"
      ]
    },
    {
      "cell_type": "code",
      "execution_count": 37,
      "id": "f8135b14",
      "metadata": {
        "colab": {
          "base_uri": "https://localhost:8080/",
          "height": 101,
          "referenced_widgets": [
            "b77639789f9f4bb98d8cad1982d4893a",
            "719d8c2894f943748fbd76d5ead70b3e",
            "5dfbfcd7db444afda4fc517d147d003d",
            "5be68560317d4f5c9af8534146218db6",
            "668d4e495bc84ed09c4e24d71d3b325a",
            "2c1c6f84f26d43b48e0213f1cd924b2c",
            "a55545370baf46b3a6ffa7400d5e040e",
            "92576062d7fe4923b1aa9005bf613e33",
            "42c7ac33687f4c1cae7f48dd3eb37c3e",
            "eb599c1fb3d64bbc9f37d857e3fe4635",
            "ab451bc1a42f484383abd0acf9e47ddc"
          ]
        },
        "id": "f8135b14",
        "outputId": "6c5430eb-8c1a-4fa1-94df-50430296feee"
      },
      "outputs": [
        {
          "output_type": "display_data",
          "data": {
            "text/plain": [
              "  0%|          | 0/500 [00:00<?, ?it/s]"
            ],
            "application/vnd.jupyter.widget-view+json": {
              "version_major": 2,
              "version_minor": 0,
              "model_id": "b77639789f9f4bb98d8cad1982d4893a"
            }
          },
          "metadata": {}
        },
        {
          "output_type": "stream",
          "name": "stdout",
          "text": [
            "Best val accuracy: 0.9084\n",
            "Corresponding test accuracy: 0.9046\n",
            "(step 375)\n"
          ]
        }
      ],
      "source": [
        "run_experiment(graph=graph, features=features, labels=labels,\n",
        "               train_idx=train_idx, val_idx=val_idx, test_idx=test_idx,\n",
        "               graph_conv_module=DGLMaxGraphConv,\n",
        "               device=device)   # This one currently does not work with AMP."
      ]
    },
    {
      "cell_type": "markdown",
      "id": "77a66478",
      "metadata": {
        "id": "77a66478"
      },
      "source": [
        "Now, let's reimplement the GCN graph convolution using DGL."
      ]
    },
    {
      "cell_type": "code",
      "execution_count": 40,
      "id": "5336ec12",
      "metadata": {
        "id": "5336ec12"
      },
      "outputs": [],
      "source": [
        "class DGLGCNGraphConv(nn.Module):\n",
        "    def __init__(self, **kwargs):\n",
        "        super().__init__()\n",
        "\n",
        "    def forward(self, graph, x):\n",
        "        ### YOUR CODE HERE ###\n",
        "        d_inv_sqrt = graph.in_degrees().sqrt()\n",
        "        d_inv_sqrt[d_inv_sqrt == 0] = 1\n",
        "        d_inv_sqrt = 1 / d_inv_sqrt\n",
        "        weights = ops.u_mul_v(graph, d_inv_sqrt, d_inv_sqrt)\n",
        "        x_aggregated = ops.u_mul_e_sum(graph, x, weights)\n",
        "        ######################\n",
        "\n",
        "        return x_aggregated\n"
      ]
    },
    {
      "cell_type": "markdown",
      "id": "71d0e78c",
      "metadata": {
        "id": "71d0e78c"
      },
      "source": [
        "(The computations can be sped up by precomputing weights, but we won't do it.)"
      ]
    },
    {
      "cell_type": "code",
      "execution_count": 41,
      "id": "3e50b006",
      "metadata": {
        "colab": {
          "base_uri": "https://localhost:8080/",
          "height": 101,
          "referenced_widgets": [
            "97897959132d4eeeafd11caecc7582a5",
            "d8e6f2c6b9db4a79a9e8b18547a421b3",
            "7bb442ed6e794264a39196fbec2f7906",
            "8eedea4c179b436db310780d4d6956ea",
            "cbc29a16be98430597220642f8d52df0",
            "6dfb09ad7fdd470d882ab99886093b08",
            "7597a55f3d944213ae8d5c14d8f0fb8d",
            "1fdee6ae84ed4d538123f834912e2bd5",
            "c3c6cf7046174881a5631f966631a89a",
            "6d2358b18b0241c8985740de031eb5a2",
            "5f9d40551d6845babb6065be59dd9e37"
          ]
        },
        "id": "3e50b006",
        "outputId": "096d3adf-6f38-44a5-82d3-219d9e45c6de"
      },
      "outputs": [
        {
          "output_type": "display_data",
          "data": {
            "text/plain": [
              "  0%|          | 0/500 [00:00<?, ?it/s]"
            ],
            "application/vnd.jupyter.widget-view+json": {
              "version_major": 2,
              "version_minor": 0,
              "model_id": "97897959132d4eeeafd11caecc7582a5"
            }
          },
          "metadata": {}
        },
        {
          "output_type": "stream",
          "name": "stdout",
          "text": [
            "Best val accuracy: 0.9031\n",
            "Corresponding test accuracy: 0.8883\n",
            "(step 449)\n"
          ]
        }
      ],
      "source": [
        "run_experiment(graph=graph, features=features, labels=labels,\n",
        "               train_idx=train_idx, val_idx=val_idx, test_idx=test_idx,\n",
        "               graph_conv_module=DGLGCNGraphConv,\n",
        "               device=device, amp=True)"
      ]
    },
    {
      "cell_type": "markdown",
      "id": "7c623c2c",
      "metadata": {
        "id": "7c623c2c"
      },
      "source": [
        "Now let's implement something more complex - the graph convolution proposed in [the GAT paper](https://arxiv.org/abs/1710.10903). This one uses attention (although a very simple version of it). The formulas are:\n",
        "\n",
        "$$ a_{ij} = \\mathrm{LeakyReLU} \\Big( w_1^T h_i^l + w_2^T h_j^l + b \\Big) $$\n",
        "\n",
        "$$ \\alpha_{ij} = \\mathrm{softmax}_{ij}(a_{i,1}, \\; a_{i,2}, \\; ... \\; a_{i, deg(v_i)}) = \\frac{\\mathrm{exp}(a_{ij})}{\\sum_{v_k \\in N(v_i)} \\mathrm{exp}(a_{ik})} $$\n",
        "\n",
        "$$ \\tilde{h}_i^{l+1} = \\sum_{v_j \\in N(v_i)} \\alpha_{ij} h_j^l $$\n",
        "\n",
        "where $\\mathrm{softmax}_{ij}(a_{i,1}, \\; a_{i,2}, \\; ... \\; a_{i, deg(v_i)})$ is the $j$-th output of softmax of the values $a_{ik}$ corresponding to the neighbors of the node $v_i$, i.e., softmax is taken only over the ego node's neighborhood. This function is available in DGL.\n",
        "\n",
        "Note that additionally the attention mechanism is multi-headed."
      ]
    },
    {
      "cell_type": "code",
      "execution_count": 42,
      "id": "36560d4f",
      "metadata": {
        "id": "36560d4f"
      },
      "outputs": [],
      "source": [
        "from dgl.nn.functional import edge_softmax"
      ]
    },
    {
      "cell_type": "code",
      "execution_count": 56,
      "id": "fd9bf61a",
      "metadata": {
        "id": "fd9bf61a"
      },
      "outputs": [],
      "source": [
        "class DGLGATGraphConv(nn.Module):\n",
        "    def __init__(self, dim, num_heads=4, **kwargs):\n",
        "        super().__init__()\n",
        "        ### YOUR CODE HERE ###\n",
        "        self.num_heads = num_heads\n",
        "        self.dim = dim\n",
        "        self.head_dim = dim // num_heads\n",
        "        self.u_linear = nn.Linear(dim, num_heads)\n",
        "        self.v_linear = nn.Linear(dim, num_heads, bias=False)\n",
        "        self.activation = nn.LeakyReLU(negative_slope=0.1)\n",
        "\n",
        "        ######################\n",
        "\n",
        "    def forward(self, graph, x):\n",
        "        ### YOUR CODE HERE ###\n",
        "        u = self.u_linear(x)\n",
        "        v = self.v_linear(x)\n",
        "        pre_attention = self.activation(ops.u_add_v(graph, u, v))\n",
        "        attn_scores = edge_softmax(graph, pre_attention)\n",
        "        x = x.reshape(-1, self.head_dim, self.num_heads)\n",
        "        x_aggregated = ops.u_mul_e_sum(graph, x, attn_scores)\n",
        "        x_aggregated = x_aggregated.reshape(-1, self.dim)\n",
        "\n",
        "\n",
        "        ######################\n",
        "\n",
        "        return x_aggregated\n"
      ]
    },
    {
      "cell_type": "code",
      "execution_count": 57,
      "id": "8a402962",
      "metadata": {
        "colab": {
          "base_uri": "https://localhost:8080/",
          "height": 101,
          "referenced_widgets": [
            "f6cb69d17a4843449fe72c833f6670bc",
            "57bd7d72905f44d2b6a2a80432a4e189",
            "6fe927c54d484dfa8c2bae65f4b2e186",
            "7dc5405a346d47639fdc9d3b230b2589",
            "957e712e058c4cf28fc15f3bde722c49",
            "19f16563f278400f93dcbfc19f09fe0f",
            "2ca0d94d70aa4674844fa3605c68a8e3",
            "7596529556f8466e9ec5f523ca34ced1",
            "aa7d76f043b047d1b154acd2a686888b",
            "9fc2b66dd3a644c293c93461b210bd53",
            "99f5d7347fa74c0385ff39035a718dff"
          ]
        },
        "id": "8a402962",
        "outputId": "750654e5-c717-4b3b-a752-ded501b59b33"
      },
      "outputs": [
        {
          "output_type": "display_data",
          "data": {
            "text/plain": [
              "  0%|          | 0/500 [00:00<?, ?it/s]"
            ],
            "application/vnd.jupyter.widget-view+json": {
              "version_major": 2,
              "version_minor": 0,
              "model_id": "f6cb69d17a4843449fe72c833f6670bc"
            }
          },
          "metadata": {}
        },
        {
          "output_type": "stream",
          "name": "stdout",
          "text": [
            "Best val accuracy: 0.9075\n",
            "Corresponding test accuracy: 0.8985\n",
            "(step 419)\n"
          ]
        }
      ],
      "source": [
        "run_experiment(graph=graph, features=features, labels=labels,\n",
        "               train_idx=train_idx, val_idx=val_idx, test_idx=test_idx,\n",
        "               graph_conv_module=DGLGATGraphConv,\n",
        "               device=device, amp=True)"
      ]
    },
    {
      "cell_type": "code",
      "execution_count": null,
      "id": "e9e036ad",
      "metadata": {
        "id": "e9e036ad"
      },
      "outputs": [],
      "source": []
    }
  ],
  "metadata": {
    "kernelspec": {
      "display_name": "Python 3",
      "name": "python3"
    },
    "language_info": {
      "codemirror_mode": {
        "name": "ipython",
        "version": 3
      },
      "file_extension": ".py",
      "mimetype": "text/x-python",
      "name": "python",
      "nbconvert_exporter": "python",
      "pygments_lexer": "ipython3",
      "version": "3.10.13"
    },
    "colab": {
      "provenance": [],
      "gpuType": "T4"
    },
    "accelerator": "GPU",
    "widgets": {
      "application/vnd.jupyter.widget-state+json": {
        "b8617f419efd42d78fa8b91a37f07e4e": {
          "model_module": "@jupyter-widgets/controls",
          "model_name": "HBoxModel",
          "model_module_version": "1.5.0",
          "state": {
            "_dom_classes": [],
            "_model_module": "@jupyter-widgets/controls",
            "_model_module_version": "1.5.0",
            "_model_name": "HBoxModel",
            "_view_count": null,
            "_view_module": "@jupyter-widgets/controls",
            "_view_module_version": "1.5.0",
            "_view_name": "HBoxView",
            "box_style": "",
            "children": [
              "IPY_MODEL_ff45e0a2c4f64c36b3251f6d114f9946",
              "IPY_MODEL_b6fe78d7a12146878104ded35fadb6c8",
              "IPY_MODEL_44285c681214426fa5411813a55455ce"
            ],
            "layout": "IPY_MODEL_58ddc754af26449bb9cfeb7d2898030e"
          }
        },
        "ff45e0a2c4f64c36b3251f6d114f9946": {
          "model_module": "@jupyter-widgets/controls",
          "model_name": "HTMLModel",
          "model_module_version": "1.5.0",
          "state": {
            "_dom_classes": [],
            "_model_module": "@jupyter-widgets/controls",
            "_model_module_version": "1.5.0",
            "_model_name": "HTMLModel",
            "_view_count": null,
            "_view_module": "@jupyter-widgets/controls",
            "_view_module_version": "1.5.0",
            "_view_name": "HTMLView",
            "description": "",
            "description_tooltip": null,
            "layout": "IPY_MODEL_7f6a4d2499d54dbdab27bde375710fce",
            "placeholder": "​",
            "style": "IPY_MODEL_e3283563671b4e39aa9c144a522396e7",
            "value": "100%"
          }
        },
        "b6fe78d7a12146878104ded35fadb6c8": {
          "model_module": "@jupyter-widgets/controls",
          "model_name": "FloatProgressModel",
          "model_module_version": "1.5.0",
          "state": {
            "_dom_classes": [],
            "_model_module": "@jupyter-widgets/controls",
            "_model_module_version": "1.5.0",
            "_model_name": "FloatProgressModel",
            "_view_count": null,
            "_view_module": "@jupyter-widgets/controls",
            "_view_module_version": "1.5.0",
            "_view_name": "ProgressView",
            "bar_style": "success",
            "description": "",
            "description_tooltip": null,
            "layout": "IPY_MODEL_61c1e0ee049e4fecb29dc037994574d3",
            "max": 500,
            "min": 0,
            "orientation": "horizontal",
            "style": "IPY_MODEL_643148b9ec3e43e7bd540f76da282603",
            "value": 500
          }
        },
        "44285c681214426fa5411813a55455ce": {
          "model_module": "@jupyter-widgets/controls",
          "model_name": "HTMLModel",
          "model_module_version": "1.5.0",
          "state": {
            "_dom_classes": [],
            "_model_module": "@jupyter-widgets/controls",
            "_model_module_version": "1.5.0",
            "_model_name": "HTMLModel",
            "_view_count": null,
            "_view_module": "@jupyter-widgets/controls",
            "_view_module_version": "1.5.0",
            "_view_name": "HTMLView",
            "description": "",
            "description_tooltip": null,
            "layout": "IPY_MODEL_e1d0aebcf34243878625ae3bfd955c59",
            "placeholder": "​",
            "style": "IPY_MODEL_0ee4979b52b64b88b99ff1523d9b306e",
            "value": " 500/500 [00:08&lt;00:00, 63.99it/s, train accuracy=0.97, val accuracy=0.84, test accuracy=0.83]"
          }
        },
        "58ddc754af26449bb9cfeb7d2898030e": {
          "model_module": "@jupyter-widgets/base",
          "model_name": "LayoutModel",
          "model_module_version": "1.2.0",
          "state": {
            "_model_module": "@jupyter-widgets/base",
            "_model_module_version": "1.2.0",
            "_model_name": "LayoutModel",
            "_view_count": null,
            "_view_module": "@jupyter-widgets/base",
            "_view_module_version": "1.2.0",
            "_view_name": "LayoutView",
            "align_content": null,
            "align_items": null,
            "align_self": null,
            "border": null,
            "bottom": null,
            "display": null,
            "flex": null,
            "flex_flow": null,
            "grid_area": null,
            "grid_auto_columns": null,
            "grid_auto_flow": null,
            "grid_auto_rows": null,
            "grid_column": null,
            "grid_gap": null,
            "grid_row": null,
            "grid_template_areas": null,
            "grid_template_columns": null,
            "grid_template_rows": null,
            "height": null,
            "justify_content": null,
            "justify_items": null,
            "left": null,
            "margin": null,
            "max_height": null,
            "max_width": null,
            "min_height": null,
            "min_width": null,
            "object_fit": null,
            "object_position": null,
            "order": null,
            "overflow": null,
            "overflow_x": null,
            "overflow_y": null,
            "padding": null,
            "right": null,
            "top": null,
            "visibility": null,
            "width": null
          }
        },
        "7f6a4d2499d54dbdab27bde375710fce": {
          "model_module": "@jupyter-widgets/base",
          "model_name": "LayoutModel",
          "model_module_version": "1.2.0",
          "state": {
            "_model_module": "@jupyter-widgets/base",
            "_model_module_version": "1.2.0",
            "_model_name": "LayoutModel",
            "_view_count": null,
            "_view_module": "@jupyter-widgets/base",
            "_view_module_version": "1.2.0",
            "_view_name": "LayoutView",
            "align_content": null,
            "align_items": null,
            "align_self": null,
            "border": null,
            "bottom": null,
            "display": null,
            "flex": null,
            "flex_flow": null,
            "grid_area": null,
            "grid_auto_columns": null,
            "grid_auto_flow": null,
            "grid_auto_rows": null,
            "grid_column": null,
            "grid_gap": null,
            "grid_row": null,
            "grid_template_areas": null,
            "grid_template_columns": null,
            "grid_template_rows": null,
            "height": null,
            "justify_content": null,
            "justify_items": null,
            "left": null,
            "margin": null,
            "max_height": null,
            "max_width": null,
            "min_height": null,
            "min_width": null,
            "object_fit": null,
            "object_position": null,
            "order": null,
            "overflow": null,
            "overflow_x": null,
            "overflow_y": null,
            "padding": null,
            "right": null,
            "top": null,
            "visibility": null,
            "width": null
          }
        },
        "e3283563671b4e39aa9c144a522396e7": {
          "model_module": "@jupyter-widgets/controls",
          "model_name": "DescriptionStyleModel",
          "model_module_version": "1.5.0",
          "state": {
            "_model_module": "@jupyter-widgets/controls",
            "_model_module_version": "1.5.0",
            "_model_name": "DescriptionStyleModel",
            "_view_count": null,
            "_view_module": "@jupyter-widgets/base",
            "_view_module_version": "1.2.0",
            "_view_name": "StyleView",
            "description_width": ""
          }
        },
        "61c1e0ee049e4fecb29dc037994574d3": {
          "model_module": "@jupyter-widgets/base",
          "model_name": "LayoutModel",
          "model_module_version": "1.2.0",
          "state": {
            "_model_module": "@jupyter-widgets/base",
            "_model_module_version": "1.2.0",
            "_model_name": "LayoutModel",
            "_view_count": null,
            "_view_module": "@jupyter-widgets/base",
            "_view_module_version": "1.2.0",
            "_view_name": "LayoutView",
            "align_content": null,
            "align_items": null,
            "align_self": null,
            "border": null,
            "bottom": null,
            "display": null,
            "flex": null,
            "flex_flow": null,
            "grid_area": null,
            "grid_auto_columns": null,
            "grid_auto_flow": null,
            "grid_auto_rows": null,
            "grid_column": null,
            "grid_gap": null,
            "grid_row": null,
            "grid_template_areas": null,
            "grid_template_columns": null,
            "grid_template_rows": null,
            "height": null,
            "justify_content": null,
            "justify_items": null,
            "left": null,
            "margin": null,
            "max_height": null,
            "max_width": null,
            "min_height": null,
            "min_width": null,
            "object_fit": null,
            "object_position": null,
            "order": null,
            "overflow": null,
            "overflow_x": null,
            "overflow_y": null,
            "padding": null,
            "right": null,
            "top": null,
            "visibility": null,
            "width": null
          }
        },
        "643148b9ec3e43e7bd540f76da282603": {
          "model_module": "@jupyter-widgets/controls",
          "model_name": "ProgressStyleModel",
          "model_module_version": "1.5.0",
          "state": {
            "_model_module": "@jupyter-widgets/controls",
            "_model_module_version": "1.5.0",
            "_model_name": "ProgressStyleModel",
            "_view_count": null,
            "_view_module": "@jupyter-widgets/base",
            "_view_module_version": "1.2.0",
            "_view_name": "StyleView",
            "bar_color": null,
            "description_width": ""
          }
        },
        "e1d0aebcf34243878625ae3bfd955c59": {
          "model_module": "@jupyter-widgets/base",
          "model_name": "LayoutModel",
          "model_module_version": "1.2.0",
          "state": {
            "_model_module": "@jupyter-widgets/base",
            "_model_module_version": "1.2.0",
            "_model_name": "LayoutModel",
            "_view_count": null,
            "_view_module": "@jupyter-widgets/base",
            "_view_module_version": "1.2.0",
            "_view_name": "LayoutView",
            "align_content": null,
            "align_items": null,
            "align_self": null,
            "border": null,
            "bottom": null,
            "display": null,
            "flex": null,
            "flex_flow": null,
            "grid_area": null,
            "grid_auto_columns": null,
            "grid_auto_flow": null,
            "grid_auto_rows": null,
            "grid_column": null,
            "grid_gap": null,
            "grid_row": null,
            "grid_template_areas": null,
            "grid_template_columns": null,
            "grid_template_rows": null,
            "height": null,
            "justify_content": null,
            "justify_items": null,
            "left": null,
            "margin": null,
            "max_height": null,
            "max_width": null,
            "min_height": null,
            "min_width": null,
            "object_fit": null,
            "object_position": null,
            "order": null,
            "overflow": null,
            "overflow_x": null,
            "overflow_y": null,
            "padding": null,
            "right": null,
            "top": null,
            "visibility": null,
            "width": null
          }
        },
        "0ee4979b52b64b88b99ff1523d9b306e": {
          "model_module": "@jupyter-widgets/controls",
          "model_name": "DescriptionStyleModel",
          "model_module_version": "1.5.0",
          "state": {
            "_model_module": "@jupyter-widgets/controls",
            "_model_module_version": "1.5.0",
            "_model_name": "DescriptionStyleModel",
            "_view_count": null,
            "_view_module": "@jupyter-widgets/base",
            "_view_module_version": "1.2.0",
            "_view_name": "StyleView",
            "description_width": ""
          }
        },
        "0b9871a7d3e847d485ca2ae619a0dd63": {
          "model_module": "@jupyter-widgets/controls",
          "model_name": "HBoxModel",
          "model_module_version": "1.5.0",
          "state": {
            "_dom_classes": [],
            "_model_module": "@jupyter-widgets/controls",
            "_model_module_version": "1.5.0",
            "_model_name": "HBoxModel",
            "_view_count": null,
            "_view_module": "@jupyter-widgets/controls",
            "_view_module_version": "1.5.0",
            "_view_name": "HBoxView",
            "box_style": "",
            "children": [
              "IPY_MODEL_fa6c489730974320a0c413bc2f2fa71b",
              "IPY_MODEL_2414dc54260a445eabcd3e17f04e3d0e",
              "IPY_MODEL_d96c97e72d2c4fe280220e8e22260d93"
            ],
            "layout": "IPY_MODEL_9184855a04c3472f8a78b4a53039d598"
          }
        },
        "fa6c489730974320a0c413bc2f2fa71b": {
          "model_module": "@jupyter-widgets/controls",
          "model_name": "HTMLModel",
          "model_module_version": "1.5.0",
          "state": {
            "_dom_classes": [],
            "_model_module": "@jupyter-widgets/controls",
            "_model_module_version": "1.5.0",
            "_model_name": "HTMLModel",
            "_view_count": null,
            "_view_module": "@jupyter-widgets/controls",
            "_view_module_version": "1.5.0",
            "_view_name": "HTMLView",
            "description": "",
            "description_tooltip": null,
            "layout": "IPY_MODEL_11ccd48924434c0c922fbe09a4f1dd1a",
            "placeholder": "​",
            "style": "IPY_MODEL_646291b14a614405ab760c6fcdc12a2b",
            "value": "100%"
          }
        },
        "2414dc54260a445eabcd3e17f04e3d0e": {
          "model_module": "@jupyter-widgets/controls",
          "model_name": "FloatProgressModel",
          "model_module_version": "1.5.0",
          "state": {
            "_dom_classes": [],
            "_model_module": "@jupyter-widgets/controls",
            "_model_module_version": "1.5.0",
            "_model_name": "FloatProgressModel",
            "_view_count": null,
            "_view_module": "@jupyter-widgets/controls",
            "_view_module_version": "1.5.0",
            "_view_name": "ProgressView",
            "bar_style": "success",
            "description": "",
            "description_tooltip": null,
            "layout": "IPY_MODEL_78205e7f0260452fa223f05cd2a935dc",
            "max": 500,
            "min": 0,
            "orientation": "horizontal",
            "style": "IPY_MODEL_abc217b539cf4569b9126901e7e164a1",
            "value": 500
          }
        },
        "d96c97e72d2c4fe280220e8e22260d93": {
          "model_module": "@jupyter-widgets/controls",
          "model_name": "HTMLModel",
          "model_module_version": "1.5.0",
          "state": {
            "_dom_classes": [],
            "_model_module": "@jupyter-widgets/controls",
            "_model_module_version": "1.5.0",
            "_model_name": "HTMLModel",
            "_view_count": null,
            "_view_module": "@jupyter-widgets/controls",
            "_view_module_version": "1.5.0",
            "_view_name": "HTMLView",
            "description": "",
            "description_tooltip": null,
            "layout": "IPY_MODEL_ca57ea52e3904d5baf767e37c644782e",
            "placeholder": "​",
            "style": "IPY_MODEL_80fc6c956fee47bc8a9509363e7482a4",
            "value": " 500/500 [00:43&lt;00:00, 11.24it/s, train accuracy=0.97, val accuracy=0.91, test accuracy=0.90]"
          }
        },
        "9184855a04c3472f8a78b4a53039d598": {
          "model_module": "@jupyter-widgets/base",
          "model_name": "LayoutModel",
          "model_module_version": "1.2.0",
          "state": {
            "_model_module": "@jupyter-widgets/base",
            "_model_module_version": "1.2.0",
            "_model_name": "LayoutModel",
            "_view_count": null,
            "_view_module": "@jupyter-widgets/base",
            "_view_module_version": "1.2.0",
            "_view_name": "LayoutView",
            "align_content": null,
            "align_items": null,
            "align_self": null,
            "border": null,
            "bottom": null,
            "display": null,
            "flex": null,
            "flex_flow": null,
            "grid_area": null,
            "grid_auto_columns": null,
            "grid_auto_flow": null,
            "grid_auto_rows": null,
            "grid_column": null,
            "grid_gap": null,
            "grid_row": null,
            "grid_template_areas": null,
            "grid_template_columns": null,
            "grid_template_rows": null,
            "height": null,
            "justify_content": null,
            "justify_items": null,
            "left": null,
            "margin": null,
            "max_height": null,
            "max_width": null,
            "min_height": null,
            "min_width": null,
            "object_fit": null,
            "object_position": null,
            "order": null,
            "overflow": null,
            "overflow_x": null,
            "overflow_y": null,
            "padding": null,
            "right": null,
            "top": null,
            "visibility": null,
            "width": null
          }
        },
        "11ccd48924434c0c922fbe09a4f1dd1a": {
          "model_module": "@jupyter-widgets/base",
          "model_name": "LayoutModel",
          "model_module_version": "1.2.0",
          "state": {
            "_model_module": "@jupyter-widgets/base",
            "_model_module_version": "1.2.0",
            "_model_name": "LayoutModel",
            "_view_count": null,
            "_view_module": "@jupyter-widgets/base",
            "_view_module_version": "1.2.0",
            "_view_name": "LayoutView",
            "align_content": null,
            "align_items": null,
            "align_self": null,
            "border": null,
            "bottom": null,
            "display": null,
            "flex": null,
            "flex_flow": null,
            "grid_area": null,
            "grid_auto_columns": null,
            "grid_auto_flow": null,
            "grid_auto_rows": null,
            "grid_column": null,
            "grid_gap": null,
            "grid_row": null,
            "grid_template_areas": null,
            "grid_template_columns": null,
            "grid_template_rows": null,
            "height": null,
            "justify_content": null,
            "justify_items": null,
            "left": null,
            "margin": null,
            "max_height": null,
            "max_width": null,
            "min_height": null,
            "min_width": null,
            "object_fit": null,
            "object_position": null,
            "order": null,
            "overflow": null,
            "overflow_x": null,
            "overflow_y": null,
            "padding": null,
            "right": null,
            "top": null,
            "visibility": null,
            "width": null
          }
        },
        "646291b14a614405ab760c6fcdc12a2b": {
          "model_module": "@jupyter-widgets/controls",
          "model_name": "DescriptionStyleModel",
          "model_module_version": "1.5.0",
          "state": {
            "_model_module": "@jupyter-widgets/controls",
            "_model_module_version": "1.5.0",
            "_model_name": "DescriptionStyleModel",
            "_view_count": null,
            "_view_module": "@jupyter-widgets/base",
            "_view_module_version": "1.2.0",
            "_view_name": "StyleView",
            "description_width": ""
          }
        },
        "78205e7f0260452fa223f05cd2a935dc": {
          "model_module": "@jupyter-widgets/base",
          "model_name": "LayoutModel",
          "model_module_version": "1.2.0",
          "state": {
            "_model_module": "@jupyter-widgets/base",
            "_model_module_version": "1.2.0",
            "_model_name": "LayoutModel",
            "_view_count": null,
            "_view_module": "@jupyter-widgets/base",
            "_view_module_version": "1.2.0",
            "_view_name": "LayoutView",
            "align_content": null,
            "align_items": null,
            "align_self": null,
            "border": null,
            "bottom": null,
            "display": null,
            "flex": null,
            "flex_flow": null,
            "grid_area": null,
            "grid_auto_columns": null,
            "grid_auto_flow": null,
            "grid_auto_rows": null,
            "grid_column": null,
            "grid_gap": null,
            "grid_row": null,
            "grid_template_areas": null,
            "grid_template_columns": null,
            "grid_template_rows": null,
            "height": null,
            "justify_content": null,
            "justify_items": null,
            "left": null,
            "margin": null,
            "max_height": null,
            "max_width": null,
            "min_height": null,
            "min_width": null,
            "object_fit": null,
            "object_position": null,
            "order": null,
            "overflow": null,
            "overflow_x": null,
            "overflow_y": null,
            "padding": null,
            "right": null,
            "top": null,
            "visibility": null,
            "width": null
          }
        },
        "abc217b539cf4569b9126901e7e164a1": {
          "model_module": "@jupyter-widgets/controls",
          "model_name": "ProgressStyleModel",
          "model_module_version": "1.5.0",
          "state": {
            "_model_module": "@jupyter-widgets/controls",
            "_model_module_version": "1.5.0",
            "_model_name": "ProgressStyleModel",
            "_view_count": null,
            "_view_module": "@jupyter-widgets/base",
            "_view_module_version": "1.2.0",
            "_view_name": "StyleView",
            "bar_color": null,
            "description_width": ""
          }
        },
        "ca57ea52e3904d5baf767e37c644782e": {
          "model_module": "@jupyter-widgets/base",
          "model_name": "LayoutModel",
          "model_module_version": "1.2.0",
          "state": {
            "_model_module": "@jupyter-widgets/base",
            "_model_module_version": "1.2.0",
            "_model_name": "LayoutModel",
            "_view_count": null,
            "_view_module": "@jupyter-widgets/base",
            "_view_module_version": "1.2.0",
            "_view_name": "LayoutView",
            "align_content": null,
            "align_items": null,
            "align_self": null,
            "border": null,
            "bottom": null,
            "display": null,
            "flex": null,
            "flex_flow": null,
            "grid_area": null,
            "grid_auto_columns": null,
            "grid_auto_flow": null,
            "grid_auto_rows": null,
            "grid_column": null,
            "grid_gap": null,
            "grid_row": null,
            "grid_template_areas": null,
            "grid_template_columns": null,
            "grid_template_rows": null,
            "height": null,
            "justify_content": null,
            "justify_items": null,
            "left": null,
            "margin": null,
            "max_height": null,
            "max_width": null,
            "min_height": null,
            "min_width": null,
            "object_fit": null,
            "object_position": null,
            "order": null,
            "overflow": null,
            "overflow_x": null,
            "overflow_y": null,
            "padding": null,
            "right": null,
            "top": null,
            "visibility": null,
            "width": null
          }
        },
        "80fc6c956fee47bc8a9509363e7482a4": {
          "model_module": "@jupyter-widgets/controls",
          "model_name": "DescriptionStyleModel",
          "model_module_version": "1.5.0",
          "state": {
            "_model_module": "@jupyter-widgets/controls",
            "_model_module_version": "1.5.0",
            "_model_name": "DescriptionStyleModel",
            "_view_count": null,
            "_view_module": "@jupyter-widgets/base",
            "_view_module_version": "1.2.0",
            "_view_name": "StyleView",
            "description_width": ""
          }
        },
        "81be3e7252b9446d8cbfee883d611daf": {
          "model_module": "@jupyter-widgets/controls",
          "model_name": "HBoxModel",
          "model_module_version": "1.5.0",
          "state": {
            "_dom_classes": [],
            "_model_module": "@jupyter-widgets/controls",
            "_model_module_version": "1.5.0",
            "_model_name": "HBoxModel",
            "_view_count": null,
            "_view_module": "@jupyter-widgets/controls",
            "_view_module_version": "1.5.0",
            "_view_name": "HBoxView",
            "box_style": "",
            "children": [
              "IPY_MODEL_a2145b5484704214900af2d0a8c3a0ff",
              "IPY_MODEL_e06cad5d4efb4222a76fe6cc57359d43",
              "IPY_MODEL_c9bee6d692264ee699efbfef3f4495cd"
            ],
            "layout": "IPY_MODEL_b21bd18b56d54c499a5a938bda6f38a8"
          }
        },
        "a2145b5484704214900af2d0a8c3a0ff": {
          "model_module": "@jupyter-widgets/controls",
          "model_name": "HTMLModel",
          "model_module_version": "1.5.0",
          "state": {
            "_dom_classes": [],
            "_model_module": "@jupyter-widgets/controls",
            "_model_module_version": "1.5.0",
            "_model_name": "HTMLModel",
            "_view_count": null,
            "_view_module": "@jupyter-widgets/controls",
            "_view_module_version": "1.5.0",
            "_view_name": "HTMLView",
            "description": "",
            "description_tooltip": null,
            "layout": "IPY_MODEL_69ca0548fb5046a387a3077c15965db6",
            "placeholder": "​",
            "style": "IPY_MODEL_66d83565465641eda1ea3fd7fcc32e7d",
            "value": "100%"
          }
        },
        "e06cad5d4efb4222a76fe6cc57359d43": {
          "model_module": "@jupyter-widgets/controls",
          "model_name": "FloatProgressModel",
          "model_module_version": "1.5.0",
          "state": {
            "_dom_classes": [],
            "_model_module": "@jupyter-widgets/controls",
            "_model_module_version": "1.5.0",
            "_model_name": "FloatProgressModel",
            "_view_count": null,
            "_view_module": "@jupyter-widgets/controls",
            "_view_module_version": "1.5.0",
            "_view_name": "ProgressView",
            "bar_style": "success",
            "description": "",
            "description_tooltip": null,
            "layout": "IPY_MODEL_d9e6617c7f2c4b4793137582fbbbc4d5",
            "max": 500,
            "min": 0,
            "orientation": "horizontal",
            "style": "IPY_MODEL_b9435272e59e41ec980b1d96fa0b7a17",
            "value": 500
          }
        },
        "c9bee6d692264ee699efbfef3f4495cd": {
          "model_module": "@jupyter-widgets/controls",
          "model_name": "HTMLModel",
          "model_module_version": "1.5.0",
          "state": {
            "_dom_classes": [],
            "_model_module": "@jupyter-widgets/controls",
            "_model_module_version": "1.5.0",
            "_model_name": "HTMLModel",
            "_view_count": null,
            "_view_module": "@jupyter-widgets/controls",
            "_view_module_version": "1.5.0",
            "_view_name": "HTMLView",
            "description": "",
            "description_tooltip": null,
            "layout": "IPY_MODEL_a48d966732db46e19674fdb9116f561e",
            "placeholder": "​",
            "style": "IPY_MODEL_793adac998de4f069b169c32df2becb5",
            "value": " 500/500 [00:43&lt;00:00, 11.60it/s, train accuracy=0.98, val accuracy=0.90, test accuracy=0.90]"
          }
        },
        "b21bd18b56d54c499a5a938bda6f38a8": {
          "model_module": "@jupyter-widgets/base",
          "model_name": "LayoutModel",
          "model_module_version": "1.2.0",
          "state": {
            "_model_module": "@jupyter-widgets/base",
            "_model_module_version": "1.2.0",
            "_model_name": "LayoutModel",
            "_view_count": null,
            "_view_module": "@jupyter-widgets/base",
            "_view_module_version": "1.2.0",
            "_view_name": "LayoutView",
            "align_content": null,
            "align_items": null,
            "align_self": null,
            "border": null,
            "bottom": null,
            "display": null,
            "flex": null,
            "flex_flow": null,
            "grid_area": null,
            "grid_auto_columns": null,
            "grid_auto_flow": null,
            "grid_auto_rows": null,
            "grid_column": null,
            "grid_gap": null,
            "grid_row": null,
            "grid_template_areas": null,
            "grid_template_columns": null,
            "grid_template_rows": null,
            "height": null,
            "justify_content": null,
            "justify_items": null,
            "left": null,
            "margin": null,
            "max_height": null,
            "max_width": null,
            "min_height": null,
            "min_width": null,
            "object_fit": null,
            "object_position": null,
            "order": null,
            "overflow": null,
            "overflow_x": null,
            "overflow_y": null,
            "padding": null,
            "right": null,
            "top": null,
            "visibility": null,
            "width": null
          }
        },
        "69ca0548fb5046a387a3077c15965db6": {
          "model_module": "@jupyter-widgets/base",
          "model_name": "LayoutModel",
          "model_module_version": "1.2.0",
          "state": {
            "_model_module": "@jupyter-widgets/base",
            "_model_module_version": "1.2.0",
            "_model_name": "LayoutModel",
            "_view_count": null,
            "_view_module": "@jupyter-widgets/base",
            "_view_module_version": "1.2.0",
            "_view_name": "LayoutView",
            "align_content": null,
            "align_items": null,
            "align_self": null,
            "border": null,
            "bottom": null,
            "display": null,
            "flex": null,
            "flex_flow": null,
            "grid_area": null,
            "grid_auto_columns": null,
            "grid_auto_flow": null,
            "grid_auto_rows": null,
            "grid_column": null,
            "grid_gap": null,
            "grid_row": null,
            "grid_template_areas": null,
            "grid_template_columns": null,
            "grid_template_rows": null,
            "height": null,
            "justify_content": null,
            "justify_items": null,
            "left": null,
            "margin": null,
            "max_height": null,
            "max_width": null,
            "min_height": null,
            "min_width": null,
            "object_fit": null,
            "object_position": null,
            "order": null,
            "overflow": null,
            "overflow_x": null,
            "overflow_y": null,
            "padding": null,
            "right": null,
            "top": null,
            "visibility": null,
            "width": null
          }
        },
        "66d83565465641eda1ea3fd7fcc32e7d": {
          "model_module": "@jupyter-widgets/controls",
          "model_name": "DescriptionStyleModel",
          "model_module_version": "1.5.0",
          "state": {
            "_model_module": "@jupyter-widgets/controls",
            "_model_module_version": "1.5.0",
            "_model_name": "DescriptionStyleModel",
            "_view_count": null,
            "_view_module": "@jupyter-widgets/base",
            "_view_module_version": "1.2.0",
            "_view_name": "StyleView",
            "description_width": ""
          }
        },
        "d9e6617c7f2c4b4793137582fbbbc4d5": {
          "model_module": "@jupyter-widgets/base",
          "model_name": "LayoutModel",
          "model_module_version": "1.2.0",
          "state": {
            "_model_module": "@jupyter-widgets/base",
            "_model_module_version": "1.2.0",
            "_model_name": "LayoutModel",
            "_view_count": null,
            "_view_module": "@jupyter-widgets/base",
            "_view_module_version": "1.2.0",
            "_view_name": "LayoutView",
            "align_content": null,
            "align_items": null,
            "align_self": null,
            "border": null,
            "bottom": null,
            "display": null,
            "flex": null,
            "flex_flow": null,
            "grid_area": null,
            "grid_auto_columns": null,
            "grid_auto_flow": null,
            "grid_auto_rows": null,
            "grid_column": null,
            "grid_gap": null,
            "grid_row": null,
            "grid_template_areas": null,
            "grid_template_columns": null,
            "grid_template_rows": null,
            "height": null,
            "justify_content": null,
            "justify_items": null,
            "left": null,
            "margin": null,
            "max_height": null,
            "max_width": null,
            "min_height": null,
            "min_width": null,
            "object_fit": null,
            "object_position": null,
            "order": null,
            "overflow": null,
            "overflow_x": null,
            "overflow_y": null,
            "padding": null,
            "right": null,
            "top": null,
            "visibility": null,
            "width": null
          }
        },
        "b9435272e59e41ec980b1d96fa0b7a17": {
          "model_module": "@jupyter-widgets/controls",
          "model_name": "ProgressStyleModel",
          "model_module_version": "1.5.0",
          "state": {
            "_model_module": "@jupyter-widgets/controls",
            "_model_module_version": "1.5.0",
            "_model_name": "ProgressStyleModel",
            "_view_count": null,
            "_view_module": "@jupyter-widgets/base",
            "_view_module_version": "1.2.0",
            "_view_name": "StyleView",
            "bar_color": null,
            "description_width": ""
          }
        },
        "a48d966732db46e19674fdb9116f561e": {
          "model_module": "@jupyter-widgets/base",
          "model_name": "LayoutModel",
          "model_module_version": "1.2.0",
          "state": {
            "_model_module": "@jupyter-widgets/base",
            "_model_module_version": "1.2.0",
            "_model_name": "LayoutModel",
            "_view_count": null,
            "_view_module": "@jupyter-widgets/base",
            "_view_module_version": "1.2.0",
            "_view_name": "LayoutView",
            "align_content": null,
            "align_items": null,
            "align_self": null,
            "border": null,
            "bottom": null,
            "display": null,
            "flex": null,
            "flex_flow": null,
            "grid_area": null,
            "grid_auto_columns": null,
            "grid_auto_flow": null,
            "grid_auto_rows": null,
            "grid_column": null,
            "grid_gap": null,
            "grid_row": null,
            "grid_template_areas": null,
            "grid_template_columns": null,
            "grid_template_rows": null,
            "height": null,
            "justify_content": null,
            "justify_items": null,
            "left": null,
            "margin": null,
            "max_height": null,
            "max_width": null,
            "min_height": null,
            "min_width": null,
            "object_fit": null,
            "object_position": null,
            "order": null,
            "overflow": null,
            "overflow_x": null,
            "overflow_y": null,
            "padding": null,
            "right": null,
            "top": null,
            "visibility": null,
            "width": null
          }
        },
        "793adac998de4f069b169c32df2becb5": {
          "model_module": "@jupyter-widgets/controls",
          "model_name": "DescriptionStyleModel",
          "model_module_version": "1.5.0",
          "state": {
            "_model_module": "@jupyter-widgets/controls",
            "_model_module_version": "1.5.0",
            "_model_name": "DescriptionStyleModel",
            "_view_count": null,
            "_view_module": "@jupyter-widgets/base",
            "_view_module_version": "1.2.0",
            "_view_name": "StyleView",
            "description_width": ""
          }
        },
        "4de385bfc3a34f66b143a4599c76ac09": {
          "model_module": "@jupyter-widgets/controls",
          "model_name": "HBoxModel",
          "model_module_version": "1.5.0",
          "state": {
            "_dom_classes": [],
            "_model_module": "@jupyter-widgets/controls",
            "_model_module_version": "1.5.0",
            "_model_name": "HBoxModel",
            "_view_count": null,
            "_view_module": "@jupyter-widgets/controls",
            "_view_module_version": "1.5.0",
            "_view_name": "HBoxView",
            "box_style": "",
            "children": [
              "IPY_MODEL_cb1edab77c25460da5d4063dfff72b7e",
              "IPY_MODEL_521a129e57ca4a3f9884d1bdd495a070",
              "IPY_MODEL_5900f5470d8b4f449ed8f2f85c5410b2"
            ],
            "layout": "IPY_MODEL_b05086821dda4e7db2bdc778f39ab31d"
          }
        },
        "cb1edab77c25460da5d4063dfff72b7e": {
          "model_module": "@jupyter-widgets/controls",
          "model_name": "HTMLModel",
          "model_module_version": "1.5.0",
          "state": {
            "_dom_classes": [],
            "_model_module": "@jupyter-widgets/controls",
            "_model_module_version": "1.5.0",
            "_model_name": "HTMLModel",
            "_view_count": null,
            "_view_module": "@jupyter-widgets/controls",
            "_view_module_version": "1.5.0",
            "_view_name": "HTMLView",
            "description": "",
            "description_tooltip": null,
            "layout": "IPY_MODEL_93299987d4094a70a7dd316f617fd4c2",
            "placeholder": "​",
            "style": "IPY_MODEL_0b7f17e990244e6cb72d2c0a5e3bf60f",
            "value": "100%"
          }
        },
        "521a129e57ca4a3f9884d1bdd495a070": {
          "model_module": "@jupyter-widgets/controls",
          "model_name": "FloatProgressModel",
          "model_module_version": "1.5.0",
          "state": {
            "_dom_classes": [],
            "_model_module": "@jupyter-widgets/controls",
            "_model_module_version": "1.5.0",
            "_model_name": "FloatProgressModel",
            "_view_count": null,
            "_view_module": "@jupyter-widgets/controls",
            "_view_module_version": "1.5.0",
            "_view_name": "ProgressView",
            "bar_style": "success",
            "description": "",
            "description_tooltip": null,
            "layout": "IPY_MODEL_7fcf98962422406eaa7e67ecb6499458",
            "max": 500,
            "min": 0,
            "orientation": "horizontal",
            "style": "IPY_MODEL_26cac0b36e2248eea42cc7bad47e247f",
            "value": 500
          }
        },
        "5900f5470d8b4f449ed8f2f85c5410b2": {
          "model_module": "@jupyter-widgets/controls",
          "model_name": "HTMLModel",
          "model_module_version": "1.5.0",
          "state": {
            "_dom_classes": [],
            "_model_module": "@jupyter-widgets/controls",
            "_model_module_version": "1.5.0",
            "_model_name": "HTMLModel",
            "_view_count": null,
            "_view_module": "@jupyter-widgets/controls",
            "_view_module_version": "1.5.0",
            "_view_name": "HTMLView",
            "description": "",
            "description_tooltip": null,
            "layout": "IPY_MODEL_8b6b39b2937847e8863a51f9f4f2ead6",
            "placeholder": "​",
            "style": "IPY_MODEL_97cd19a587964fe089bdb4513454bf19",
            "value": " 500/500 [00:13&lt;00:00, 35.44it/s, train accuracy=0.98, val accuracy=0.90, test accuracy=0.90]"
          }
        },
        "b05086821dda4e7db2bdc778f39ab31d": {
          "model_module": "@jupyter-widgets/base",
          "model_name": "LayoutModel",
          "model_module_version": "1.2.0",
          "state": {
            "_model_module": "@jupyter-widgets/base",
            "_model_module_version": "1.2.0",
            "_model_name": "LayoutModel",
            "_view_count": null,
            "_view_module": "@jupyter-widgets/base",
            "_view_module_version": "1.2.0",
            "_view_name": "LayoutView",
            "align_content": null,
            "align_items": null,
            "align_self": null,
            "border": null,
            "bottom": null,
            "display": null,
            "flex": null,
            "flex_flow": null,
            "grid_area": null,
            "grid_auto_columns": null,
            "grid_auto_flow": null,
            "grid_auto_rows": null,
            "grid_column": null,
            "grid_gap": null,
            "grid_row": null,
            "grid_template_areas": null,
            "grid_template_columns": null,
            "grid_template_rows": null,
            "height": null,
            "justify_content": null,
            "justify_items": null,
            "left": null,
            "margin": null,
            "max_height": null,
            "max_width": null,
            "min_height": null,
            "min_width": null,
            "object_fit": null,
            "object_position": null,
            "order": null,
            "overflow": null,
            "overflow_x": null,
            "overflow_y": null,
            "padding": null,
            "right": null,
            "top": null,
            "visibility": null,
            "width": null
          }
        },
        "93299987d4094a70a7dd316f617fd4c2": {
          "model_module": "@jupyter-widgets/base",
          "model_name": "LayoutModel",
          "model_module_version": "1.2.0",
          "state": {
            "_model_module": "@jupyter-widgets/base",
            "_model_module_version": "1.2.0",
            "_model_name": "LayoutModel",
            "_view_count": null,
            "_view_module": "@jupyter-widgets/base",
            "_view_module_version": "1.2.0",
            "_view_name": "LayoutView",
            "align_content": null,
            "align_items": null,
            "align_self": null,
            "border": null,
            "bottom": null,
            "display": null,
            "flex": null,
            "flex_flow": null,
            "grid_area": null,
            "grid_auto_columns": null,
            "grid_auto_flow": null,
            "grid_auto_rows": null,
            "grid_column": null,
            "grid_gap": null,
            "grid_row": null,
            "grid_template_areas": null,
            "grid_template_columns": null,
            "grid_template_rows": null,
            "height": null,
            "justify_content": null,
            "justify_items": null,
            "left": null,
            "margin": null,
            "max_height": null,
            "max_width": null,
            "min_height": null,
            "min_width": null,
            "object_fit": null,
            "object_position": null,
            "order": null,
            "overflow": null,
            "overflow_x": null,
            "overflow_y": null,
            "padding": null,
            "right": null,
            "top": null,
            "visibility": null,
            "width": null
          }
        },
        "0b7f17e990244e6cb72d2c0a5e3bf60f": {
          "model_module": "@jupyter-widgets/controls",
          "model_name": "DescriptionStyleModel",
          "model_module_version": "1.5.0",
          "state": {
            "_model_module": "@jupyter-widgets/controls",
            "_model_module_version": "1.5.0",
            "_model_name": "DescriptionStyleModel",
            "_view_count": null,
            "_view_module": "@jupyter-widgets/base",
            "_view_module_version": "1.2.0",
            "_view_name": "StyleView",
            "description_width": ""
          }
        },
        "7fcf98962422406eaa7e67ecb6499458": {
          "model_module": "@jupyter-widgets/base",
          "model_name": "LayoutModel",
          "model_module_version": "1.2.0",
          "state": {
            "_model_module": "@jupyter-widgets/base",
            "_model_module_version": "1.2.0",
            "_model_name": "LayoutModel",
            "_view_count": null,
            "_view_module": "@jupyter-widgets/base",
            "_view_module_version": "1.2.0",
            "_view_name": "LayoutView",
            "align_content": null,
            "align_items": null,
            "align_self": null,
            "border": null,
            "bottom": null,
            "display": null,
            "flex": null,
            "flex_flow": null,
            "grid_area": null,
            "grid_auto_columns": null,
            "grid_auto_flow": null,
            "grid_auto_rows": null,
            "grid_column": null,
            "grid_gap": null,
            "grid_row": null,
            "grid_template_areas": null,
            "grid_template_columns": null,
            "grid_template_rows": null,
            "height": null,
            "justify_content": null,
            "justify_items": null,
            "left": null,
            "margin": null,
            "max_height": null,
            "max_width": null,
            "min_height": null,
            "min_width": null,
            "object_fit": null,
            "object_position": null,
            "order": null,
            "overflow": null,
            "overflow_x": null,
            "overflow_y": null,
            "padding": null,
            "right": null,
            "top": null,
            "visibility": null,
            "width": null
          }
        },
        "26cac0b36e2248eea42cc7bad47e247f": {
          "model_module": "@jupyter-widgets/controls",
          "model_name": "ProgressStyleModel",
          "model_module_version": "1.5.0",
          "state": {
            "_model_module": "@jupyter-widgets/controls",
            "_model_module_version": "1.5.0",
            "_model_name": "ProgressStyleModel",
            "_view_count": null,
            "_view_module": "@jupyter-widgets/base",
            "_view_module_version": "1.2.0",
            "_view_name": "StyleView",
            "bar_color": null,
            "description_width": ""
          }
        },
        "8b6b39b2937847e8863a51f9f4f2ead6": {
          "model_module": "@jupyter-widgets/base",
          "model_name": "LayoutModel",
          "model_module_version": "1.2.0",
          "state": {
            "_model_module": "@jupyter-widgets/base",
            "_model_module_version": "1.2.0",
            "_model_name": "LayoutModel",
            "_view_count": null,
            "_view_module": "@jupyter-widgets/base",
            "_view_module_version": "1.2.0",
            "_view_name": "LayoutView",
            "align_content": null,
            "align_items": null,
            "align_self": null,
            "border": null,
            "bottom": null,
            "display": null,
            "flex": null,
            "flex_flow": null,
            "grid_area": null,
            "grid_auto_columns": null,
            "grid_auto_flow": null,
            "grid_auto_rows": null,
            "grid_column": null,
            "grid_gap": null,
            "grid_row": null,
            "grid_template_areas": null,
            "grid_template_columns": null,
            "grid_template_rows": null,
            "height": null,
            "justify_content": null,
            "justify_items": null,
            "left": null,
            "margin": null,
            "max_height": null,
            "max_width": null,
            "min_height": null,
            "min_width": null,
            "object_fit": null,
            "object_position": null,
            "order": null,
            "overflow": null,
            "overflow_x": null,
            "overflow_y": null,
            "padding": null,
            "right": null,
            "top": null,
            "visibility": null,
            "width": null
          }
        },
        "97cd19a587964fe089bdb4513454bf19": {
          "model_module": "@jupyter-widgets/controls",
          "model_name": "DescriptionStyleModel",
          "model_module_version": "1.5.0",
          "state": {
            "_model_module": "@jupyter-widgets/controls",
            "_model_module_version": "1.5.0",
            "_model_name": "DescriptionStyleModel",
            "_view_count": null,
            "_view_module": "@jupyter-widgets/base",
            "_view_module_version": "1.2.0",
            "_view_name": "StyleView",
            "description_width": ""
          }
        },
        "b77639789f9f4bb98d8cad1982d4893a": {
          "model_module": "@jupyter-widgets/controls",
          "model_name": "HBoxModel",
          "model_module_version": "1.5.0",
          "state": {
            "_dom_classes": [],
            "_model_module": "@jupyter-widgets/controls",
            "_model_module_version": "1.5.0",
            "_model_name": "HBoxModel",
            "_view_count": null,
            "_view_module": "@jupyter-widgets/controls",
            "_view_module_version": "1.5.0",
            "_view_name": "HBoxView",
            "box_style": "",
            "children": [
              "IPY_MODEL_719d8c2894f943748fbd76d5ead70b3e",
              "IPY_MODEL_5dfbfcd7db444afda4fc517d147d003d",
              "IPY_MODEL_5be68560317d4f5c9af8534146218db6"
            ],
            "layout": "IPY_MODEL_668d4e495bc84ed09c4e24d71d3b325a"
          }
        },
        "719d8c2894f943748fbd76d5ead70b3e": {
          "model_module": "@jupyter-widgets/controls",
          "model_name": "HTMLModel",
          "model_module_version": "1.5.0",
          "state": {
            "_dom_classes": [],
            "_model_module": "@jupyter-widgets/controls",
            "_model_module_version": "1.5.0",
            "_model_name": "HTMLModel",
            "_view_count": null,
            "_view_module": "@jupyter-widgets/controls",
            "_view_module_version": "1.5.0",
            "_view_name": "HTMLView",
            "description": "",
            "description_tooltip": null,
            "layout": "IPY_MODEL_2c1c6f84f26d43b48e0213f1cd924b2c",
            "placeholder": "​",
            "style": "IPY_MODEL_a55545370baf46b3a6ffa7400d5e040e",
            "value": "100%"
          }
        },
        "5dfbfcd7db444afda4fc517d147d003d": {
          "model_module": "@jupyter-widgets/controls",
          "model_name": "FloatProgressModel",
          "model_module_version": "1.5.0",
          "state": {
            "_dom_classes": [],
            "_model_module": "@jupyter-widgets/controls",
            "_model_module_version": "1.5.0",
            "_model_name": "FloatProgressModel",
            "_view_count": null,
            "_view_module": "@jupyter-widgets/controls",
            "_view_module_version": "1.5.0",
            "_view_name": "ProgressView",
            "bar_style": "success",
            "description": "",
            "description_tooltip": null,
            "layout": "IPY_MODEL_92576062d7fe4923b1aa9005bf613e33",
            "max": 500,
            "min": 0,
            "orientation": "horizontal",
            "style": "IPY_MODEL_42c7ac33687f4c1cae7f48dd3eb37c3e",
            "value": 500
          }
        },
        "5be68560317d4f5c9af8534146218db6": {
          "model_module": "@jupyter-widgets/controls",
          "model_name": "HTMLModel",
          "model_module_version": "1.5.0",
          "state": {
            "_dom_classes": [],
            "_model_module": "@jupyter-widgets/controls",
            "_model_module_version": "1.5.0",
            "_model_name": "HTMLModel",
            "_view_count": null,
            "_view_module": "@jupyter-widgets/controls",
            "_view_module_version": "1.5.0",
            "_view_name": "HTMLView",
            "description": "",
            "description_tooltip": null,
            "layout": "IPY_MODEL_eb599c1fb3d64bbc9f37d857e3fe4635",
            "placeholder": "​",
            "style": "IPY_MODEL_ab451bc1a42f484383abd0acf9e47ddc",
            "value": " 500/500 [00:19&lt;00:00, 25.93it/s, train accuracy=0.99, val accuracy=0.90, test accuracy=0.91]"
          }
        },
        "668d4e495bc84ed09c4e24d71d3b325a": {
          "model_module": "@jupyter-widgets/base",
          "model_name": "LayoutModel",
          "model_module_version": "1.2.0",
          "state": {
            "_model_module": "@jupyter-widgets/base",
            "_model_module_version": "1.2.0",
            "_model_name": "LayoutModel",
            "_view_count": null,
            "_view_module": "@jupyter-widgets/base",
            "_view_module_version": "1.2.0",
            "_view_name": "LayoutView",
            "align_content": null,
            "align_items": null,
            "align_self": null,
            "border": null,
            "bottom": null,
            "display": null,
            "flex": null,
            "flex_flow": null,
            "grid_area": null,
            "grid_auto_columns": null,
            "grid_auto_flow": null,
            "grid_auto_rows": null,
            "grid_column": null,
            "grid_gap": null,
            "grid_row": null,
            "grid_template_areas": null,
            "grid_template_columns": null,
            "grid_template_rows": null,
            "height": null,
            "justify_content": null,
            "justify_items": null,
            "left": null,
            "margin": null,
            "max_height": null,
            "max_width": null,
            "min_height": null,
            "min_width": null,
            "object_fit": null,
            "object_position": null,
            "order": null,
            "overflow": null,
            "overflow_x": null,
            "overflow_y": null,
            "padding": null,
            "right": null,
            "top": null,
            "visibility": null,
            "width": null
          }
        },
        "2c1c6f84f26d43b48e0213f1cd924b2c": {
          "model_module": "@jupyter-widgets/base",
          "model_name": "LayoutModel",
          "model_module_version": "1.2.0",
          "state": {
            "_model_module": "@jupyter-widgets/base",
            "_model_module_version": "1.2.0",
            "_model_name": "LayoutModel",
            "_view_count": null,
            "_view_module": "@jupyter-widgets/base",
            "_view_module_version": "1.2.0",
            "_view_name": "LayoutView",
            "align_content": null,
            "align_items": null,
            "align_self": null,
            "border": null,
            "bottom": null,
            "display": null,
            "flex": null,
            "flex_flow": null,
            "grid_area": null,
            "grid_auto_columns": null,
            "grid_auto_flow": null,
            "grid_auto_rows": null,
            "grid_column": null,
            "grid_gap": null,
            "grid_row": null,
            "grid_template_areas": null,
            "grid_template_columns": null,
            "grid_template_rows": null,
            "height": null,
            "justify_content": null,
            "justify_items": null,
            "left": null,
            "margin": null,
            "max_height": null,
            "max_width": null,
            "min_height": null,
            "min_width": null,
            "object_fit": null,
            "object_position": null,
            "order": null,
            "overflow": null,
            "overflow_x": null,
            "overflow_y": null,
            "padding": null,
            "right": null,
            "top": null,
            "visibility": null,
            "width": null
          }
        },
        "a55545370baf46b3a6ffa7400d5e040e": {
          "model_module": "@jupyter-widgets/controls",
          "model_name": "DescriptionStyleModel",
          "model_module_version": "1.5.0",
          "state": {
            "_model_module": "@jupyter-widgets/controls",
            "_model_module_version": "1.5.0",
            "_model_name": "DescriptionStyleModel",
            "_view_count": null,
            "_view_module": "@jupyter-widgets/base",
            "_view_module_version": "1.2.0",
            "_view_name": "StyleView",
            "description_width": ""
          }
        },
        "92576062d7fe4923b1aa9005bf613e33": {
          "model_module": "@jupyter-widgets/base",
          "model_name": "LayoutModel",
          "model_module_version": "1.2.0",
          "state": {
            "_model_module": "@jupyter-widgets/base",
            "_model_module_version": "1.2.0",
            "_model_name": "LayoutModel",
            "_view_count": null,
            "_view_module": "@jupyter-widgets/base",
            "_view_module_version": "1.2.0",
            "_view_name": "LayoutView",
            "align_content": null,
            "align_items": null,
            "align_self": null,
            "border": null,
            "bottom": null,
            "display": null,
            "flex": null,
            "flex_flow": null,
            "grid_area": null,
            "grid_auto_columns": null,
            "grid_auto_flow": null,
            "grid_auto_rows": null,
            "grid_column": null,
            "grid_gap": null,
            "grid_row": null,
            "grid_template_areas": null,
            "grid_template_columns": null,
            "grid_template_rows": null,
            "height": null,
            "justify_content": null,
            "justify_items": null,
            "left": null,
            "margin": null,
            "max_height": null,
            "max_width": null,
            "min_height": null,
            "min_width": null,
            "object_fit": null,
            "object_position": null,
            "order": null,
            "overflow": null,
            "overflow_x": null,
            "overflow_y": null,
            "padding": null,
            "right": null,
            "top": null,
            "visibility": null,
            "width": null
          }
        },
        "42c7ac33687f4c1cae7f48dd3eb37c3e": {
          "model_module": "@jupyter-widgets/controls",
          "model_name": "ProgressStyleModel",
          "model_module_version": "1.5.0",
          "state": {
            "_model_module": "@jupyter-widgets/controls",
            "_model_module_version": "1.5.0",
            "_model_name": "ProgressStyleModel",
            "_view_count": null,
            "_view_module": "@jupyter-widgets/base",
            "_view_module_version": "1.2.0",
            "_view_name": "StyleView",
            "bar_color": null,
            "description_width": ""
          }
        },
        "eb599c1fb3d64bbc9f37d857e3fe4635": {
          "model_module": "@jupyter-widgets/base",
          "model_name": "LayoutModel",
          "model_module_version": "1.2.0",
          "state": {
            "_model_module": "@jupyter-widgets/base",
            "_model_module_version": "1.2.0",
            "_model_name": "LayoutModel",
            "_view_count": null,
            "_view_module": "@jupyter-widgets/base",
            "_view_module_version": "1.2.0",
            "_view_name": "LayoutView",
            "align_content": null,
            "align_items": null,
            "align_self": null,
            "border": null,
            "bottom": null,
            "display": null,
            "flex": null,
            "flex_flow": null,
            "grid_area": null,
            "grid_auto_columns": null,
            "grid_auto_flow": null,
            "grid_auto_rows": null,
            "grid_column": null,
            "grid_gap": null,
            "grid_row": null,
            "grid_template_areas": null,
            "grid_template_columns": null,
            "grid_template_rows": null,
            "height": null,
            "justify_content": null,
            "justify_items": null,
            "left": null,
            "margin": null,
            "max_height": null,
            "max_width": null,
            "min_height": null,
            "min_width": null,
            "object_fit": null,
            "object_position": null,
            "order": null,
            "overflow": null,
            "overflow_x": null,
            "overflow_y": null,
            "padding": null,
            "right": null,
            "top": null,
            "visibility": null,
            "width": null
          }
        },
        "ab451bc1a42f484383abd0acf9e47ddc": {
          "model_module": "@jupyter-widgets/controls",
          "model_name": "DescriptionStyleModel",
          "model_module_version": "1.5.0",
          "state": {
            "_model_module": "@jupyter-widgets/controls",
            "_model_module_version": "1.5.0",
            "_model_name": "DescriptionStyleModel",
            "_view_count": null,
            "_view_module": "@jupyter-widgets/base",
            "_view_module_version": "1.2.0",
            "_view_name": "StyleView",
            "description_width": ""
          }
        },
        "97897959132d4eeeafd11caecc7582a5": {
          "model_module": "@jupyter-widgets/controls",
          "model_name": "HBoxModel",
          "model_module_version": "1.5.0",
          "state": {
            "_dom_classes": [],
            "_model_module": "@jupyter-widgets/controls",
            "_model_module_version": "1.5.0",
            "_model_name": "HBoxModel",
            "_view_count": null,
            "_view_module": "@jupyter-widgets/controls",
            "_view_module_version": "1.5.0",
            "_view_name": "HBoxView",
            "box_style": "",
            "children": [
              "IPY_MODEL_d8e6f2c6b9db4a79a9e8b18547a421b3",
              "IPY_MODEL_7bb442ed6e794264a39196fbec2f7906",
              "IPY_MODEL_8eedea4c179b436db310780d4d6956ea"
            ],
            "layout": "IPY_MODEL_cbc29a16be98430597220642f8d52df0"
          }
        },
        "d8e6f2c6b9db4a79a9e8b18547a421b3": {
          "model_module": "@jupyter-widgets/controls",
          "model_name": "HTMLModel",
          "model_module_version": "1.5.0",
          "state": {
            "_dom_classes": [],
            "_model_module": "@jupyter-widgets/controls",
            "_model_module_version": "1.5.0",
            "_model_name": "HTMLModel",
            "_view_count": null,
            "_view_module": "@jupyter-widgets/controls",
            "_view_module_version": "1.5.0",
            "_view_name": "HTMLView",
            "description": "",
            "description_tooltip": null,
            "layout": "IPY_MODEL_6dfb09ad7fdd470d882ab99886093b08",
            "placeholder": "​",
            "style": "IPY_MODEL_7597a55f3d944213ae8d5c14d8f0fb8d",
            "value": "100%"
          }
        },
        "7bb442ed6e794264a39196fbec2f7906": {
          "model_module": "@jupyter-widgets/controls",
          "model_name": "FloatProgressModel",
          "model_module_version": "1.5.0",
          "state": {
            "_dom_classes": [],
            "_model_module": "@jupyter-widgets/controls",
            "_model_module_version": "1.5.0",
            "_model_name": "FloatProgressModel",
            "_view_count": null,
            "_view_module": "@jupyter-widgets/controls",
            "_view_module_version": "1.5.0",
            "_view_name": "ProgressView",
            "bar_style": "success",
            "description": "",
            "description_tooltip": null,
            "layout": "IPY_MODEL_1fdee6ae84ed4d538123f834912e2bd5",
            "max": 500,
            "min": 0,
            "orientation": "horizontal",
            "style": "IPY_MODEL_c3c6cf7046174881a5631f966631a89a",
            "value": 500
          }
        },
        "8eedea4c179b436db310780d4d6956ea": {
          "model_module": "@jupyter-widgets/controls",
          "model_name": "HTMLModel",
          "model_module_version": "1.5.0",
          "state": {
            "_dom_classes": [],
            "_model_module": "@jupyter-widgets/controls",
            "_model_module_version": "1.5.0",
            "_model_name": "HTMLModel",
            "_view_count": null,
            "_view_module": "@jupyter-widgets/controls",
            "_view_module_version": "1.5.0",
            "_view_name": "HTMLView",
            "description": "",
            "description_tooltip": null,
            "layout": "IPY_MODEL_6d2358b18b0241c8985740de031eb5a2",
            "placeholder": "​",
            "style": "IPY_MODEL_5f9d40551d6845babb6065be59dd9e37",
            "value": " 500/500 [00:16&lt;00:00, 31.79it/s, train accuracy=0.98, val accuracy=0.90, test accuracy=0.89]"
          }
        },
        "cbc29a16be98430597220642f8d52df0": {
          "model_module": "@jupyter-widgets/base",
          "model_name": "LayoutModel",
          "model_module_version": "1.2.0",
          "state": {
            "_model_module": "@jupyter-widgets/base",
            "_model_module_version": "1.2.0",
            "_model_name": "LayoutModel",
            "_view_count": null,
            "_view_module": "@jupyter-widgets/base",
            "_view_module_version": "1.2.0",
            "_view_name": "LayoutView",
            "align_content": null,
            "align_items": null,
            "align_self": null,
            "border": null,
            "bottom": null,
            "display": null,
            "flex": null,
            "flex_flow": null,
            "grid_area": null,
            "grid_auto_columns": null,
            "grid_auto_flow": null,
            "grid_auto_rows": null,
            "grid_column": null,
            "grid_gap": null,
            "grid_row": null,
            "grid_template_areas": null,
            "grid_template_columns": null,
            "grid_template_rows": null,
            "height": null,
            "justify_content": null,
            "justify_items": null,
            "left": null,
            "margin": null,
            "max_height": null,
            "max_width": null,
            "min_height": null,
            "min_width": null,
            "object_fit": null,
            "object_position": null,
            "order": null,
            "overflow": null,
            "overflow_x": null,
            "overflow_y": null,
            "padding": null,
            "right": null,
            "top": null,
            "visibility": null,
            "width": null
          }
        },
        "6dfb09ad7fdd470d882ab99886093b08": {
          "model_module": "@jupyter-widgets/base",
          "model_name": "LayoutModel",
          "model_module_version": "1.2.0",
          "state": {
            "_model_module": "@jupyter-widgets/base",
            "_model_module_version": "1.2.0",
            "_model_name": "LayoutModel",
            "_view_count": null,
            "_view_module": "@jupyter-widgets/base",
            "_view_module_version": "1.2.0",
            "_view_name": "LayoutView",
            "align_content": null,
            "align_items": null,
            "align_self": null,
            "border": null,
            "bottom": null,
            "display": null,
            "flex": null,
            "flex_flow": null,
            "grid_area": null,
            "grid_auto_columns": null,
            "grid_auto_flow": null,
            "grid_auto_rows": null,
            "grid_column": null,
            "grid_gap": null,
            "grid_row": null,
            "grid_template_areas": null,
            "grid_template_columns": null,
            "grid_template_rows": null,
            "height": null,
            "justify_content": null,
            "justify_items": null,
            "left": null,
            "margin": null,
            "max_height": null,
            "max_width": null,
            "min_height": null,
            "min_width": null,
            "object_fit": null,
            "object_position": null,
            "order": null,
            "overflow": null,
            "overflow_x": null,
            "overflow_y": null,
            "padding": null,
            "right": null,
            "top": null,
            "visibility": null,
            "width": null
          }
        },
        "7597a55f3d944213ae8d5c14d8f0fb8d": {
          "model_module": "@jupyter-widgets/controls",
          "model_name": "DescriptionStyleModel",
          "model_module_version": "1.5.0",
          "state": {
            "_model_module": "@jupyter-widgets/controls",
            "_model_module_version": "1.5.0",
            "_model_name": "DescriptionStyleModel",
            "_view_count": null,
            "_view_module": "@jupyter-widgets/base",
            "_view_module_version": "1.2.0",
            "_view_name": "StyleView",
            "description_width": ""
          }
        },
        "1fdee6ae84ed4d538123f834912e2bd5": {
          "model_module": "@jupyter-widgets/base",
          "model_name": "LayoutModel",
          "model_module_version": "1.2.0",
          "state": {
            "_model_module": "@jupyter-widgets/base",
            "_model_module_version": "1.2.0",
            "_model_name": "LayoutModel",
            "_view_count": null,
            "_view_module": "@jupyter-widgets/base",
            "_view_module_version": "1.2.0",
            "_view_name": "LayoutView",
            "align_content": null,
            "align_items": null,
            "align_self": null,
            "border": null,
            "bottom": null,
            "display": null,
            "flex": null,
            "flex_flow": null,
            "grid_area": null,
            "grid_auto_columns": null,
            "grid_auto_flow": null,
            "grid_auto_rows": null,
            "grid_column": null,
            "grid_gap": null,
            "grid_row": null,
            "grid_template_areas": null,
            "grid_template_columns": null,
            "grid_template_rows": null,
            "height": null,
            "justify_content": null,
            "justify_items": null,
            "left": null,
            "margin": null,
            "max_height": null,
            "max_width": null,
            "min_height": null,
            "min_width": null,
            "object_fit": null,
            "object_position": null,
            "order": null,
            "overflow": null,
            "overflow_x": null,
            "overflow_y": null,
            "padding": null,
            "right": null,
            "top": null,
            "visibility": null,
            "width": null
          }
        },
        "c3c6cf7046174881a5631f966631a89a": {
          "model_module": "@jupyter-widgets/controls",
          "model_name": "ProgressStyleModel",
          "model_module_version": "1.5.0",
          "state": {
            "_model_module": "@jupyter-widgets/controls",
            "_model_module_version": "1.5.0",
            "_model_name": "ProgressStyleModel",
            "_view_count": null,
            "_view_module": "@jupyter-widgets/base",
            "_view_module_version": "1.2.0",
            "_view_name": "StyleView",
            "bar_color": null,
            "description_width": ""
          }
        },
        "6d2358b18b0241c8985740de031eb5a2": {
          "model_module": "@jupyter-widgets/base",
          "model_name": "LayoutModel",
          "model_module_version": "1.2.0",
          "state": {
            "_model_module": "@jupyter-widgets/base",
            "_model_module_version": "1.2.0",
            "_model_name": "LayoutModel",
            "_view_count": null,
            "_view_module": "@jupyter-widgets/base",
            "_view_module_version": "1.2.0",
            "_view_name": "LayoutView",
            "align_content": null,
            "align_items": null,
            "align_self": null,
            "border": null,
            "bottom": null,
            "display": null,
            "flex": null,
            "flex_flow": null,
            "grid_area": null,
            "grid_auto_columns": null,
            "grid_auto_flow": null,
            "grid_auto_rows": null,
            "grid_column": null,
            "grid_gap": null,
            "grid_row": null,
            "grid_template_areas": null,
            "grid_template_columns": null,
            "grid_template_rows": null,
            "height": null,
            "justify_content": null,
            "justify_items": null,
            "left": null,
            "margin": null,
            "max_height": null,
            "max_width": null,
            "min_height": null,
            "min_width": null,
            "object_fit": null,
            "object_position": null,
            "order": null,
            "overflow": null,
            "overflow_x": null,
            "overflow_y": null,
            "padding": null,
            "right": null,
            "top": null,
            "visibility": null,
            "width": null
          }
        },
        "5f9d40551d6845babb6065be59dd9e37": {
          "model_module": "@jupyter-widgets/controls",
          "model_name": "DescriptionStyleModel",
          "model_module_version": "1.5.0",
          "state": {
            "_model_module": "@jupyter-widgets/controls",
            "_model_module_version": "1.5.0",
            "_model_name": "DescriptionStyleModel",
            "_view_count": null,
            "_view_module": "@jupyter-widgets/base",
            "_view_module_version": "1.2.0",
            "_view_name": "StyleView",
            "description_width": ""
          }
        },
        "f6cb69d17a4843449fe72c833f6670bc": {
          "model_module": "@jupyter-widgets/controls",
          "model_name": "HBoxModel",
          "model_module_version": "1.5.0",
          "state": {
            "_dom_classes": [],
            "_model_module": "@jupyter-widgets/controls",
            "_model_module_version": "1.5.0",
            "_model_name": "HBoxModel",
            "_view_count": null,
            "_view_module": "@jupyter-widgets/controls",
            "_view_module_version": "1.5.0",
            "_view_name": "HBoxView",
            "box_style": "",
            "children": [
              "IPY_MODEL_57bd7d72905f44d2b6a2a80432a4e189",
              "IPY_MODEL_6fe927c54d484dfa8c2bae65f4b2e186",
              "IPY_MODEL_7dc5405a346d47639fdc9d3b230b2589"
            ],
            "layout": "IPY_MODEL_957e712e058c4cf28fc15f3bde722c49"
          }
        },
        "57bd7d72905f44d2b6a2a80432a4e189": {
          "model_module": "@jupyter-widgets/controls",
          "model_name": "HTMLModel",
          "model_module_version": "1.5.0",
          "state": {
            "_dom_classes": [],
            "_model_module": "@jupyter-widgets/controls",
            "_model_module_version": "1.5.0",
            "_model_name": "HTMLModel",
            "_view_count": null,
            "_view_module": "@jupyter-widgets/controls",
            "_view_module_version": "1.5.0",
            "_view_name": "HTMLView",
            "description": "",
            "description_tooltip": null,
            "layout": "IPY_MODEL_19f16563f278400f93dcbfc19f09fe0f",
            "placeholder": "​",
            "style": "IPY_MODEL_2ca0d94d70aa4674844fa3605c68a8e3",
            "value": "100%"
          }
        },
        "6fe927c54d484dfa8c2bae65f4b2e186": {
          "model_module": "@jupyter-widgets/controls",
          "model_name": "FloatProgressModel",
          "model_module_version": "1.5.0",
          "state": {
            "_dom_classes": [],
            "_model_module": "@jupyter-widgets/controls",
            "_model_module_version": "1.5.0",
            "_model_name": "FloatProgressModel",
            "_view_count": null,
            "_view_module": "@jupyter-widgets/controls",
            "_view_module_version": "1.5.0",
            "_view_name": "ProgressView",
            "bar_style": "success",
            "description": "",
            "description_tooltip": null,
            "layout": "IPY_MODEL_7596529556f8466e9ec5f523ca34ced1",
            "max": 500,
            "min": 0,
            "orientation": "horizontal",
            "style": "IPY_MODEL_aa7d76f043b047d1b154acd2a686888b",
            "value": 500
          }
        },
        "7dc5405a346d47639fdc9d3b230b2589": {
          "model_module": "@jupyter-widgets/controls",
          "model_name": "HTMLModel",
          "model_module_version": "1.5.0",
          "state": {
            "_dom_classes": [],
            "_model_module": "@jupyter-widgets/controls",
            "_model_module_version": "1.5.0",
            "_model_name": "HTMLModel",
            "_view_count": null,
            "_view_module": "@jupyter-widgets/controls",
            "_view_module_version": "1.5.0",
            "_view_name": "HTMLView",
            "description": "",
            "description_tooltip": null,
            "layout": "IPY_MODEL_9fc2b66dd3a644c293c93461b210bd53",
            "placeholder": "​",
            "style": "IPY_MODEL_99f5d7347fa74c0385ff39035a718dff",
            "value": " 500/500 [00:25&lt;00:00, 18.92it/s, train accuracy=0.98, val accuracy=0.90, test accuracy=0.90]"
          }
        },
        "957e712e058c4cf28fc15f3bde722c49": {
          "model_module": "@jupyter-widgets/base",
          "model_name": "LayoutModel",
          "model_module_version": "1.2.0",
          "state": {
            "_model_module": "@jupyter-widgets/base",
            "_model_module_version": "1.2.0",
            "_model_name": "LayoutModel",
            "_view_count": null,
            "_view_module": "@jupyter-widgets/base",
            "_view_module_version": "1.2.0",
            "_view_name": "LayoutView",
            "align_content": null,
            "align_items": null,
            "align_self": null,
            "border": null,
            "bottom": null,
            "display": null,
            "flex": null,
            "flex_flow": null,
            "grid_area": null,
            "grid_auto_columns": null,
            "grid_auto_flow": null,
            "grid_auto_rows": null,
            "grid_column": null,
            "grid_gap": null,
            "grid_row": null,
            "grid_template_areas": null,
            "grid_template_columns": null,
            "grid_template_rows": null,
            "height": null,
            "justify_content": null,
            "justify_items": null,
            "left": null,
            "margin": null,
            "max_height": null,
            "max_width": null,
            "min_height": null,
            "min_width": null,
            "object_fit": null,
            "object_position": null,
            "order": null,
            "overflow": null,
            "overflow_x": null,
            "overflow_y": null,
            "padding": null,
            "right": null,
            "top": null,
            "visibility": null,
            "width": null
          }
        },
        "19f16563f278400f93dcbfc19f09fe0f": {
          "model_module": "@jupyter-widgets/base",
          "model_name": "LayoutModel",
          "model_module_version": "1.2.0",
          "state": {
            "_model_module": "@jupyter-widgets/base",
            "_model_module_version": "1.2.0",
            "_model_name": "LayoutModel",
            "_view_count": null,
            "_view_module": "@jupyter-widgets/base",
            "_view_module_version": "1.2.0",
            "_view_name": "LayoutView",
            "align_content": null,
            "align_items": null,
            "align_self": null,
            "border": null,
            "bottom": null,
            "display": null,
            "flex": null,
            "flex_flow": null,
            "grid_area": null,
            "grid_auto_columns": null,
            "grid_auto_flow": null,
            "grid_auto_rows": null,
            "grid_column": null,
            "grid_gap": null,
            "grid_row": null,
            "grid_template_areas": null,
            "grid_template_columns": null,
            "grid_template_rows": null,
            "height": null,
            "justify_content": null,
            "justify_items": null,
            "left": null,
            "margin": null,
            "max_height": null,
            "max_width": null,
            "min_height": null,
            "min_width": null,
            "object_fit": null,
            "object_position": null,
            "order": null,
            "overflow": null,
            "overflow_x": null,
            "overflow_y": null,
            "padding": null,
            "right": null,
            "top": null,
            "visibility": null,
            "width": null
          }
        },
        "2ca0d94d70aa4674844fa3605c68a8e3": {
          "model_module": "@jupyter-widgets/controls",
          "model_name": "DescriptionStyleModel",
          "model_module_version": "1.5.0",
          "state": {
            "_model_module": "@jupyter-widgets/controls",
            "_model_module_version": "1.5.0",
            "_model_name": "DescriptionStyleModel",
            "_view_count": null,
            "_view_module": "@jupyter-widgets/base",
            "_view_module_version": "1.2.0",
            "_view_name": "StyleView",
            "description_width": ""
          }
        },
        "7596529556f8466e9ec5f523ca34ced1": {
          "model_module": "@jupyter-widgets/base",
          "model_name": "LayoutModel",
          "model_module_version": "1.2.0",
          "state": {
            "_model_module": "@jupyter-widgets/base",
            "_model_module_version": "1.2.0",
            "_model_name": "LayoutModel",
            "_view_count": null,
            "_view_module": "@jupyter-widgets/base",
            "_view_module_version": "1.2.0",
            "_view_name": "LayoutView",
            "align_content": null,
            "align_items": null,
            "align_self": null,
            "border": null,
            "bottom": null,
            "display": null,
            "flex": null,
            "flex_flow": null,
            "grid_area": null,
            "grid_auto_columns": null,
            "grid_auto_flow": null,
            "grid_auto_rows": null,
            "grid_column": null,
            "grid_gap": null,
            "grid_row": null,
            "grid_template_areas": null,
            "grid_template_columns": null,
            "grid_template_rows": null,
            "height": null,
            "justify_content": null,
            "justify_items": null,
            "left": null,
            "margin": null,
            "max_height": null,
            "max_width": null,
            "min_height": null,
            "min_width": null,
            "object_fit": null,
            "object_position": null,
            "order": null,
            "overflow": null,
            "overflow_x": null,
            "overflow_y": null,
            "padding": null,
            "right": null,
            "top": null,
            "visibility": null,
            "width": null
          }
        },
        "aa7d76f043b047d1b154acd2a686888b": {
          "model_module": "@jupyter-widgets/controls",
          "model_name": "ProgressStyleModel",
          "model_module_version": "1.5.0",
          "state": {
            "_model_module": "@jupyter-widgets/controls",
            "_model_module_version": "1.5.0",
            "_model_name": "ProgressStyleModel",
            "_view_count": null,
            "_view_module": "@jupyter-widgets/base",
            "_view_module_version": "1.2.0",
            "_view_name": "StyleView",
            "bar_color": null,
            "description_width": ""
          }
        },
        "9fc2b66dd3a644c293c93461b210bd53": {
          "model_module": "@jupyter-widgets/base",
          "model_name": "LayoutModel",
          "model_module_version": "1.2.0",
          "state": {
            "_model_module": "@jupyter-widgets/base",
            "_model_module_version": "1.2.0",
            "_model_name": "LayoutModel",
            "_view_count": null,
            "_view_module": "@jupyter-widgets/base",
            "_view_module_version": "1.2.0",
            "_view_name": "LayoutView",
            "align_content": null,
            "align_items": null,
            "align_self": null,
            "border": null,
            "bottom": null,
            "display": null,
            "flex": null,
            "flex_flow": null,
            "grid_area": null,
            "grid_auto_columns": null,
            "grid_auto_flow": null,
            "grid_auto_rows": null,
            "grid_column": null,
            "grid_gap": null,
            "grid_row": null,
            "grid_template_areas": null,
            "grid_template_columns": null,
            "grid_template_rows": null,
            "height": null,
            "justify_content": null,
            "justify_items": null,
            "left": null,
            "margin": null,
            "max_height": null,
            "max_width": null,
            "min_height": null,
            "min_width": null,
            "object_fit": null,
            "object_position": null,
            "order": null,
            "overflow": null,
            "overflow_x": null,
            "overflow_y": null,
            "padding": null,
            "right": null,
            "top": null,
            "visibility": null,
            "width": null
          }
        },
        "99f5d7347fa74c0385ff39035a718dff": {
          "model_module": "@jupyter-widgets/controls",
          "model_name": "DescriptionStyleModel",
          "model_module_version": "1.5.0",
          "state": {
            "_model_module": "@jupyter-widgets/controls",
            "_model_module_version": "1.5.0",
            "_model_name": "DescriptionStyleModel",
            "_view_count": null,
            "_view_module": "@jupyter-widgets/base",
            "_view_module_version": "1.2.0",
            "_view_name": "StyleView",
            "description_width": ""
          }
        }
      }
    }
  },
  "nbformat": 4,
  "nbformat_minor": 5
}